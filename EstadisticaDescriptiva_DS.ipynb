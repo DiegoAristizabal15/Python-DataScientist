{
  "nbformat": 4,
  "nbformat_minor": 0,
  "metadata": {
    "colab": {
      "name": "EstadisticaDescriptiva-DS.ipynb",
      "provenance": [],
      "collapsed_sections": [],
      "include_colab_link": true
    },
    "kernelspec": {
      "name": "python3",
      "display_name": "Python 3"
    }
  },
  "cells": [
    {
      "cell_type": "markdown",
      "metadata": {
        "id": "view-in-github",
        "colab_type": "text"
      },
      "source": [
        "<a href=\"https://colab.research.google.com/github/DiegoAristizabal15/Python-DataScientist/blob/main/EstadisticaDescriptiva_DS.ipynb\" target=\"_parent\"><img src=\"https://colab.research.google.com/assets/colab-badge.svg\" alt=\"Open In Colab\"/></a>"
      ]
    },
    {
      "cell_type": "markdown",
      "metadata": {
        "id": "AL9dmjBSL2N8"
      },
      "source": [
        "# **Estadística descriptiva, visualizaciones y experimentos numéricos**"
      ]
    },
    {
      "cell_type": "markdown",
      "metadata": {
        "id": "X52Bicz7MNpi"
      },
      "source": [
        "<p><a name=\"sections\"></a></p>\n",
        "\n",
        "#Secciones\n",
        "- <a href=\"#BreBreComSobGenNumAle\">1. Breve, brevísimo comentario sobre generar números aleatorios</a><br>\n",
        "  - <a href=\"#Semi\">1.1. Semilla </a><br>\n",
        "  - <a href=\"#Libr\">1.2. Librería [scipy.stats] </a><br>\n",
        "  - <a href=\"#DisVarAleCon\">1.3. Distribuciones de variable aleatoria continua </a><br>\n",
        "  - <a href=\"#DisVarAleDis\">1.4. Distribuciones de variable aleatoria discreta </a><br>\n",
        "  - <a href=\"#GenNumAleHis\">1.5. Generación de números aleatorios e histogramas  </a><br>\n",
        "  - <a href=\"#UnaBuePracReaHis\">1.6. Una buena practica es realziar los histogramas con diferentes cantidad de bins para viusalizar la mejor visualizacion </a><br>\n",
        "  - <a href=\"#NorComDisTeo\">1.7. Normalización y comparación con distribución teórica </a><br>\n",
        "  - <a href=\"#ObsEst\">1.8. Observables estadísticos </a><br>\n",
        "  - <a href=\"#OtrDisVarAleCon\">1.9. Otras distribuciones de variables aleatorias continuas  </a><br>\n",
        "  - <a href=\"#VarDis\">1.10. Variables discretas  </a><br>\n",
        "  - <a href=\"#AtaNumPanEst\">1.11. Atajos en Numpy y Pandas para estadística descriptiva </a><br>\n",
        "  - <a href=\"#AlgComFin\">1.12. Algunos comentarios finales  </a><br>\n",
        "  - <a href=\"#NorMul\">1.13. Normal multivariada  </a><br>\n",
        "  \n",
        "\n",
        "\n",
        "- <a href=\"#ExpNum\">2.1 Experimentos numéricos</a><br>\n",
        "  - <a href=\"#RobEst\">2.1. Robustez de estadísticos </a><br>\n",
        "  - <a href=\"#Corre\">2.2. Correlación  </a><br>\n",
        "  - <a href=\"#TeoCenLim\">2.3. Teorema central del límite  </a><br>\n",
        "  - <a href=\"#LeyGraNum\">2.4. Ley de grandes números   </a><br>\n",
        "\n"
      ]
    },
    {
      "cell_type": "markdown",
      "metadata": {
        "id": "1Lm41OahRVn0"
      },
      "source": [
        "\n",
        "\n",
        "En esta notebook vamos a aprender a trabajar con distribuciones de datos, computar distintos estadísticos tales como la media y la desviación, entre otros, como así también visualizar la distribución a partir de histogramas. Vamos a explorar estos puntos a partir de generar números aleatorios en python con distintas distribuciones.\n",
        "\n",
        "Por otro lado, generar números aleatorios nos permite jugar un poco y hacer experimentos numéricos que nos permiten entender un poco más resultados teóricos como el teorema central de límite o la ley de grandes números, comparar la performance de distintos coeficientes de correlación y ver la robustez de los observables que cuantificamos ante la presencia de outliers (ver parte 2)."
      ]
    },
    {
      "cell_type": "code",
      "metadata": {
        "id": "TyqRO3IebhgL"
      },
      "source": [
        "# Importamos las librerías más usadas, en el camino vemos si necesitamos algo más\n",
        "import numpy as np \n",
        "import matplotlib.pyplot as plt \n",
        "from scipy import stats"
      ],
      "execution_count": null,
      "outputs": []
    },
    {
      "cell_type": "markdown",
      "metadata": {
        "id": "JymFSM9DRH5i"
      },
      "source": [
        "\n",
        "\n",
        "<p><a name=\"BreBreComSobGenNumAle\"></a></p>\n",
        "\n",
        "# 1. Breve, brevísimo comentario sobre generar números aleatorios\n",
        "\n"
      ]
    },
    {
      "cell_type": "markdown",
      "metadata": {
        "id": "kjNzQTflgS4Y"
      },
      "source": [
        "\n",
        "\n",
        "Antes de ver distribuciones, veamos algo muy sencillo potencialmente útil: generar un único número aleatorio. Decirlo así es una tanto vago, siempre hay que específicar de qué distribución viene dicho número.\n",
        "A lo largo de esta notebook vamos a ver ejemplos realizados tanto con *numpy* como en *scipy.stats*.\n",
        "\n",
        "Por ejemplo, muchas veces podríamos querer un número uniformemente distribuido entre 0 y 1 (mediante una transformación lineal podemos generarlo en otro intervalo):\n",
        "\n",
        "\n"
      ]
    },
    {
      "cell_type": "code",
      "metadata": {
        "colab": {
          "base_uri": "https://localhost:8080/"
        },
        "id": "h18nyeZvhP1q",
        "outputId": "a4102fe1-a21d-4009-c6c2-87c703deab5f"
      },
      "source": [
        "rand = np.random.random()\n",
        "print(rand)"
      ],
      "execution_count": null,
      "outputs": [
        {
          "output_type": "stream",
          "text": [
            "0.7012807961902794\n"
          ],
          "name": "stdout"
        }
      ]
    },
    {
      "cell_type": "markdown",
      "metadata": {
        "id": "ubpW46tahHBc"
      },
      "source": [
        "Otra cosa muy común es generar números con una distribución normal de media $\\mu$ y desviación $\\sigma$:"
      ]
    },
    {
      "cell_type": "code",
      "metadata": {
        "colab": {
          "base_uri": "https://localhost:8080/"
        },
        "id": "w38y0WTof8DN",
        "outputId": "50289734-a5f3-41e2-cd01-97ec5a9e9660"
      },
      "source": [
        "mu = 0.00\n",
        "sigma = 1.00\n",
        "\n",
        "randn = np.random.normal(loc = mu, scale = sigma)\n",
        "print(randn)"
      ],
      "execution_count": null,
      "outputs": [
        {
          "output_type": "stream",
          "text": [
            "-0.3349622532939057\n"
          ],
          "name": "stdout"
        }
      ]
    },
    {
      "cell_type": "markdown",
      "metadata": {
        "id": "WkU6MG3fRJzq"
      },
      "source": [
        "\n",
        "\n",
        "<p><a name=\"Semi\"></a></p>\n",
        "\n",
        "## 1.1. Semilla\n",
        "\n",
        "\n",
        "\n",
        "\n"
      ]
    },
    {
      "cell_type": "markdown",
      "metadata": {
        "id": "uTLGGLcuhWft"
      },
      "source": [
        "\n",
        "Los números aleatorios generados por una computadora no son en realidad tan aleatorios, sino que vienen de un algoritmo que vilmente nos hace creer que sí. Sea como sea, éste recibe una condición inicial llamada semilla y a partir de ella genera el resto de los números. Si fijamos la semilla antes de cada experimento numérico podemos reproducir exactamente la misma salida de números aleatorios. Para fijar en numpy se hace con:\n",
        "~~~\n",
        "np.random.seed(semilla)\n",
        "~~~\n",
        "donde semilla es un número cualquiera."
      ]
    },
    {
      "cell_type": "code",
      "metadata": {
        "colab": {
          "base_uri": "https://localhost:8080/"
        },
        "id": "RT0AVuJhiUpw",
        "outputId": "b9b99970-2b62-44e0-b446-5baaa00158d9"
      },
      "source": [
        "# Ver que si la línea de la semilla está descomentada el resultado es siempre el mismo.\n",
        "# Al revés, si no fijamos la semilla, cada vez que comencemos esta notebook los resultados serán distintos.\n",
        "\n",
        "np.random.seed(15101984)\n",
        "print(np.random.random())\n",
        "print(np.random.normal())"
      ],
      "execution_count": null,
      "outputs": [
        {
          "output_type": "stream",
          "text": [
            "0.26728667125125927\n",
            "-0.10738851556276433\n"
          ],
          "name": "stdout"
        }
      ]
    },
    {
      "cell_type": "markdown",
      "metadata": {
        "id": "30C-ZBQ2Vq6z"
      },
      "source": [
        "Conclusión, fijando la semilla todos los resultados que vienen a continuación se reproducen en forma exacta. Fijar la semilla en numpy también lo hace para las rutinas de scipy."
      ]
    },
    {
      "cell_type": "markdown",
      "metadata": {
        "id": "nXmim_aXRLmx"
      },
      "source": [
        ".\n",
        "<p><a name=\"Libr\"></a></p>\n",
        "\n",
        "## 1.2. Librería [scipy.stats] \n",
        "\n",
        "\n",
        "\n"
      ]
    },
    {
      "cell_type": "markdown",
      "metadata": {
        "id": "pTRBrBO4kpvV"
      },
      "source": [
        "\n",
        "\n",
        "Dentro de scipy tenemos el modulo *stats* que tiene muchas funciones para trabajar con distintas distribuciones, generar números aleatorios de estas y cuantificar diferentes observables. Lo bueno es que una vez que aprendemos a llamar a los distintos métodos de una distribución, la extensión a otras es inmediata."
      ]
    },
    {
      "cell_type": "markdown",
      "metadata": {
        "id": "3bucEBBgRRQb"
      },
      "source": [
        "\n",
        "\n",
        "\n",
        "<p><a name=\"DisVarAleCon\"></a></p>\n",
        "\n",
        "## 1.3. Distribuciones de variable aleatoria continua\n",
        "\n"
      ]
    },
    {
      "cell_type": "code",
      "metadata": {
        "colab": {
          "base_uri": "https://localhost:8080/"
        },
        "id": "BuBORwvklRZ9",
        "outputId": "fb8fedd3-d4ec-4450-d140-d200ec9cf5d9"
      },
      "source": [
        "# Cambiar la distribucion aquí y la sintaxis de lo que sigue es la misma\n",
        "\n",
        "distribucion = stats.norm(loc = 0.00, scale = 1.00) #  Distribución normal\n",
        "# distribucion = stats.expon(scale = 2.00) #  Distribución exponencial\n",
        "# distribucion = stats.uniform(scale = 3.00) #  Distribución uniforme\n",
        "\n",
        "# Generar 10 numeros aleatorios con la distribucion dada (.rvs random variates)\n",
        "muestra = distribucion.rvs(size = 10)\n",
        "print('Muestra: {}'.format(muestra))"
      ],
      "execution_count": null,
      "outputs": [
        {
          "output_type": "stream",
          "text": [
            "Muestra: [ 0.34792311 -0.04366016 -0.71969525  0.994527   -1.722168   -0.68096652\n",
            " -0.67809243 -1.62008147 -0.11100133  1.00102785]\n"
          ],
          "name": "stdout"
        }
      ]
    },
    {
      "cell_type": "code",
      "metadata": {
        "colab": {
          "base_uri": "https://localhost:8080/"
        },
        "id": "YFkfrdX2oTEO",
        "outputId": "965a8bfa-80e2-4a0c-836a-2f81c747a50f"
      },
      "source": [
        "# Rango de la variable aleatoria, tomamos un cuantil del 99% \n",
        "cuantil_99 = distribucion.interval(0.99)\n",
        "print('Cuantil 99%: [{}, {}]'.format(*cuantil_99))"
      ],
      "execution_count": null,
      "outputs": [
        {
          "output_type": "stream",
          "text": [
            "Cuantil 99%: [-2.5758293035489004, 2.5758293035489004]\n"
          ],
          "name": "stdout"
        }
      ]
    },
    {
      "cell_type": "code",
      "metadata": {
        "id": "_giL_0xHoR4J"
      },
      "source": [
        "# Rango de la variable x \n",
        "x = np.linspace(cuantil_99[0], cuantil_99[1], 100)"
      ],
      "execution_count": null,
      "outputs": []
    },
    {
      "cell_type": "code",
      "metadata": {
        "colab": {
          "base_uri": "https://localhost:8080/"
        },
        "id": "zAK8qhdsoZd2",
        "outputId": "ecea6bf5-de21-4313-decb-9af376294669"
      },
      "source": [
        "x"
      ],
      "execution_count": null,
      "outputs": [
        {
          "output_type": "execute_result",
          "data": {
            "text/plain": [
              "array([-2.5758293 , -2.52379235, -2.47175539, -2.41971844, -2.36768148,\n",
              "       -2.31564453, -2.26360757, -2.21157061, -2.15953366, -2.1074967 ,\n",
              "       -2.05545975, -2.00342279, -1.95138584, -1.89934888, -1.84731192,\n",
              "       -1.79527497, -1.74323801, -1.69120106, -1.6391641 , -1.58712715,\n",
              "       -1.53509019, -1.48305324, -1.43101628, -1.37897932, -1.32694237,\n",
              "       -1.27490541, -1.22286846, -1.1708315 , -1.11879455, -1.06675759,\n",
              "       -1.01472063, -0.96268368, -0.91064672, -0.85860977, -0.80657281,\n",
              "       -0.75453586, -0.7024989 , -0.65046195, -0.59842499, -0.54638803,\n",
              "       -0.49435108, -0.44231412, -0.39027717, -0.33824021, -0.28620326,\n",
              "       -0.2341663 , -0.18212934, -0.13009239, -0.07805543, -0.02601848,\n",
              "        0.02601848,  0.07805543,  0.13009239,  0.18212934,  0.2341663 ,\n",
              "        0.28620326,  0.33824021,  0.39027717,  0.44231412,  0.49435108,\n",
              "        0.54638803,  0.59842499,  0.65046195,  0.7024989 ,  0.75453586,\n",
              "        0.80657281,  0.85860977,  0.91064672,  0.96268368,  1.01472063,\n",
              "        1.06675759,  1.11879455,  1.1708315 ,  1.22286846,  1.27490541,\n",
              "        1.32694237,  1.37897932,  1.43101628,  1.48305324,  1.53509019,\n",
              "        1.58712715,  1.6391641 ,  1.69120106,  1.74323801,  1.79527497,\n",
              "        1.84731192,  1.89934888,  1.95138584,  2.00342279,  2.05545975,\n",
              "        2.1074967 ,  2.15953366,  2.21157061,  2.26360757,  2.31564453,\n",
              "        2.36768148,  2.41971844,  2.47175539,  2.52379235,  2.5758293 ])"
            ]
          },
          "metadata": {
            "tags": []
          },
          "execution_count": 26
        }
      ]
    },
    {
      "cell_type": "code",
      "metadata": {
        "id": "PFtTCybdofAo"
      },
      "source": [
        "# .pdf probability density function\n",
        "densidad_proba = distribucion.pdf(x)"
      ],
      "execution_count": null,
      "outputs": []
    },
    {
      "cell_type": "code",
      "metadata": {
        "colab": {
          "base_uri": "https://localhost:8080/"
        },
        "id": "_ETsRHwFogzG",
        "outputId": "e12f4839-abd7-4973-c3a5-ed6ec25069a7"
      },
      "source": [
        "densidad_proba "
      ],
      "execution_count": null,
      "outputs": [
        {
          "output_type": "execute_result",
          "data": {
            "text/plain": [
              "array([0.01445974, 0.01651143, 0.01880324, 0.02135526, 0.02418806,\n",
              "       0.02732254, 0.03077975, 0.03458066, 0.03874586, 0.04329536,\n",
              "       0.04824824, 0.05362231, 0.05943382, 0.06569703, 0.07242388,\n",
              "       0.07962361, 0.08730235, 0.09546276, 0.10410367, 0.11321973,\n",
              "       0.12280108, 0.13283308, 0.14329608, 0.1541652 , 0.16541024,\n",
              "       0.17699559, 0.18888023, 0.20101782, 0.21335685, 0.22584092,\n",
              "       0.23840902, 0.25099595, 0.26353285, 0.27594771, 0.28816606,\n",
              "       0.30011165, 0.31170723, 0.32287536, 0.33353924, 0.34362358,\n",
              "       0.35305549, 0.36176537, 0.36968771, 0.37676194, 0.38293321,\n",
              "       0.38815309, 0.39238017, 0.39558067, 0.39772882, 0.39880727,\n",
              "       0.39880727, 0.39772882, 0.39558067, 0.39238017, 0.38815309,\n",
              "       0.38293321, 0.37676194, 0.36968771, 0.36176537, 0.35305549,\n",
              "       0.34362358, 0.33353924, 0.32287536, 0.31170723, 0.30011165,\n",
              "       0.28816606, 0.27594771, 0.26353285, 0.25099595, 0.23840902,\n",
              "       0.22584092, 0.21335685, 0.20101782, 0.18888023, 0.17699559,\n",
              "       0.16541024, 0.1541652 , 0.14329608, 0.13283308, 0.12280108,\n",
              "       0.11321973, 0.10410367, 0.09546276, 0.08730235, 0.07962361,\n",
              "       0.07242388, 0.06569703, 0.05943382, 0.05362231, 0.04824824,\n",
              "       0.04329536, 0.03874586, 0.03458066, 0.03077975, 0.02732254,\n",
              "       0.02418806, 0.02135526, 0.01880324, 0.01651143, 0.01445974])"
            ]
          },
          "metadata": {
            "tags": []
          },
          "execution_count": 28
        }
      ]
    },
    {
      "cell_type": "code",
      "metadata": {
        "colab": {
          "base_uri": "https://localhost:8080/",
          "height": 225
        },
        "id": "FqL92EABoOsD",
        "outputId": "3954c5d8-eebc-47ec-c4c0-3997735d14f5"
      },
      "source": [
        "\"\"\"\n",
        "Gráficos de la función densidad y acumulada de probabilidad\n",
        "\"\"\"\n",
        "fig, ax = plt.subplots(nrows = 1, ncols = 2, figsize = (15,3))\n",
        "# nrows = Cantidad de filas\n",
        "# ncols = Cantidad de columnas\n",
        "# figsize  se tendra el dominio del tamañan de la figura\n",
        "ax[0].plot(x, densidad_proba)\n",
        "ax[0].set_xlabel('x')\n",
        "ax[0].set_ylabel('Densidad de probabilidad')\n",
        "ax[0].set_ylim(bottom = 0)\n",
        "\n",
        "# .cdf cumulative density function\n",
        "proba_acumulada = distribucion.cdf(x)\n",
        "ax[1].plot(x, proba_acumulada)\n",
        "ax[1].set_xlabel('x')\n",
        "ax[1].set_ylabel('Probabilidad acumulada')\n",
        "ax[1].set_ylim([0, 1.05])\n",
        "\n",
        "plt.show()"
      ],
      "execution_count": null,
      "outputs": [
        {
          "output_type": "display_data",
          "data": {
            "image/png": "[encoded data removed]",
            "text/plain": [
              "<Figure size 1080x216 with 2 Axes>"
            ]
          },
          "metadata": {
            "tags": [],
            "needs_background": "light"
          }
        }
      ]
    },
    {
      "cell_type": "markdown",
      "metadata": {
        "id": "-HZnOMXV-VRq"
      },
      "source": [
        "**Observación**: el método .interval(alpha) permite tomar un intervalo que contenga un %alpha de la masa de probabilidad. Si lo piensan, al menos para una variable continua, hay infinitos intervalos de este tipo. Scipy no lo aclara, pero lo más probable es que esté tomando el intervalo más angosto, es decir, el que se queda con un %alpha de la masa de probabilidad, pero que a la vez es el más denso.\n",
        "Para captar un cuantil específico, usar el método distribucion.ppf(q), donde q puede ser por ejemplo [0.05, 0.95] para captar el cuantil 90% central."
      ]
    },
    {
      "cell_type": "markdown",
      "metadata": {
        "id": "S5G_Yx7P6nQv"
      },
      "source": [
        "\n",
        "\n",
        "<p><a name=\"DisVarAleDis\"></a></p>\n",
        "\n",
        "## 1.4. Distribuciones de variable aleatoria discreta\n",
        "\n",
        "\n"
      ]
    },
    {
      "cell_type": "code",
      "metadata": {
        "colab": {
          "base_uri": "https://localhost:8080/",
          "height": 261
        },
        "id": "8HfzT5ctoBmw",
        "outputId": "9294596a-231f-496f-a94b-fd3c7f08f006"
      },
      "source": [
        "# Cambiar la distribucion aquí y la sintaxis de lo que sigue es la misma\n",
        "\n",
        "#distribucion = stats.binom(n = 10, p = 0.25) # Distribucion binomial\n",
        "distribucion = stats.poisson(mu = 2.00) # Distribucion de Poisson\n",
        "\n",
        "# Muestra de 10 numeros aleatorios (.rvs random variates)\n",
        "muestra = distribucion.rvs(size = 10)\n",
        "print('Muestra: {}'.format(muestra))\n",
        "\n",
        "fig, ax = plt.subplots(nrows = 1, ncols = 2, figsize = (15,3))\n",
        "\n",
        "# Rango de la variable x\n",
        "cuantil_99 = distribucion.interval(0.99)\n",
        "print('Cuantil 99%: [{}, {}]'.format(*cuantil_99))\n",
        "\n",
        "x = range(int(cuantil_99[0]), int(cuantil_99[1]))\n",
        "\n",
        "# .pmf probability mass function\n",
        "masa_proba = distribucion.pmf(x)\n",
        "ax[0].plot(x, masa_proba, '.-', markersize = 20)\n",
        "ax[0].set_xlabel('x')\n",
        "ax[0].set_ylabel('Probabilidad')\n",
        "ax[0].set_ylim(bottom = 0.00)\n",
        "\n",
        "# .cdf cumulative density function\n",
        "proba_acumulada = distribucion.cdf(x)\n",
        "ax[1].plot(x, proba_acumulada, '.-', markersize = 20)\n",
        "ax[1].set_xlabel('x')\n",
        "ax[1].set_ylabel('Probabilidad acumulada')\n",
        "ax[1].set_ylim([0, 1.05])\n",
        "\n",
        "plt.show()"
      ],
      "execution_count": null,
      "outputs": [
        {
          "output_type": "stream",
          "text": [
            "Muestra: [1 1 3 0 3 4 1 1 2 2]\n",
            "Cuantil 99%: [0.0, 6.0]\n"
          ],
          "name": "stdout"
        },
        {
          "output_type": "display_data",
          "data": {
            "image/png": "[encoded data removed]",
            "text/plain": [
              "<Figure size 1080x216 with 2 Axes>"
            ]
          },
          "metadata": {
            "tags": [],
            "needs_background": "light"
          }
        }
      ]
    },
    {
      "cell_type": "markdown",
      "metadata": {
        "id": "Q2riT9GaRYKm"
      },
      "source": [
        "\n",
        "\n",
        "<p><a name=\"GenNumAleHis\"></a></p>\n",
        "\n",
        "## 1.5. Generación de números aleatorios e histogramas\n",
        "\n",
        "\n"
      ]
    },
    {
      "cell_type": "markdown",
      "metadata": {
        "id": "e5kvSe8pf1HJ"
      },
      "source": [
        "\n",
        "\n",
        "Acá comienza oficialmente la práctica de estadística descriptiva.\n",
        "Lo que vamos a hacer a continuación es simular una situación con la que nos vamos a encontrar día a día: tenemos un conjunto de datos y queremos representar gráficamente cómo se distribuyen y reportar ciertas medidas que nos den información y caractericen dicha distribución.\n",
        "\n",
        "Por el momento vamos a trabajar con un conjunto de datos ficticios, tomados de un generador de números aleatorios de una distribución conocida."
      ]
    },
    {
      "cell_type": "code",
      "metadata": {
        "id": "5rccnUzWChIS",
        "colab": {
          "base_uri": "https://localhost:8080/"
        },
        "outputId": "d20c9487-11ed-4793-c780-45ac26e08b0b"
      },
      "source": [
        "# Generemos 1000 datos dados por una distribucion normal\n",
        "# Por los valores elegidos podría representar la altura de un conjunto de personas adultas.\n",
        "\n",
        "N = 1000\n",
        "muestra = stats.norm.rvs(loc = 1.75, scale = 0.15, size = N)\n",
        "# Se crear N = 1000 número  con una distribución normal.\n",
        "# Con media 1.75\n",
        "# Una escala de 0.12\n",
        "print(muestra)"
      ],
      "execution_count": null,
      "outputs": [
        {
          "output_type": "stream",
          "text": [
            "[1.90431377 1.69841252 1.50826321 1.78819224 1.94672632 1.52504918\n",
            " 1.58152618 1.65910894 1.64016893 1.88267455 1.68768875 1.83830305\n",
            " 1.6236485  1.58727143 1.78194887 1.90663014 2.02549971 1.80073923\n",
            " 2.03562369 1.53608111 1.50896542 1.72711003 1.69459484 1.5483853\n",
            " 2.03852783 1.51380299 1.5708037  1.96910089 1.65746893 1.49391331\n",
            " 1.68485269 1.75763022 1.85875302 1.50926286 1.86930653 1.94546252\n",
            " 2.14623007 1.43810437 1.81998237 1.77196027 1.79147442 1.84377305\n",
            " 1.9197917  1.7180943  1.71320372 2.23944284 1.92313953 1.73384558\n",
            " 1.82161923 1.78115441 1.64156733 1.89961949 1.82426335 1.73750343\n",
            " 1.81020947 1.82788838 1.69015538 1.67160235 1.81275942 1.72532085\n",
            " 1.6796981  1.83722578 1.89064652 1.6490858  1.60512711 1.62404587\n",
            " 1.68807723 1.73978482 1.78511871 1.69764399 1.6344139  1.6724321\n",
            " 1.81161112 1.67729416 1.42286214 1.77387433 1.58070912 1.95492465\n",
            " 1.72813933 1.67533379 1.82443469 1.67773876 1.68237373 1.76962981\n",
            " 1.72076678 1.59927058 1.54257067 2.06432178 2.01238437 1.63796549\n",
            " 1.85558376 1.60039204 1.81577259 1.73612325 1.66830436 1.63947578\n",
            " 1.64611402 1.77369645 1.73311096 1.50174943 1.74779961 1.76123866\n",
            " 1.60863058 1.74648183 1.64206402 1.98862195 1.84546093 1.56711614\n",
            " 1.87130581 1.79293711 1.48899746 1.59508903 1.60655484 1.89592133\n",
            " 1.77487255 1.716122   1.95807931 1.73705651 1.88409941 1.65896002\n",
            " 1.89432408 1.83911926 1.77355471 2.18147212 1.58982571 1.58344992\n",
            " 1.826288   1.47705556 1.56886747 1.67384561 1.63268962 1.65882974\n",
            " 1.67369169 1.63927765 1.71718341 1.63796202 1.9573969  1.73912743\n",
            " 1.79258166 1.84071705 1.51031311 1.69329081 1.75930626 1.62541534\n",
            " 1.68611616 1.85306972 1.71358845 1.64132179 1.61235485 1.71077514\n",
            " 1.56044477 1.49301796 1.74715931 1.88046719 1.68456942 1.63892248\n",
            " 1.67885863 1.87669719 1.59287259 1.76299712 1.86519699 1.65882759\n",
            " 1.66123915 1.535027   1.75294926 1.78749436 1.77251662 1.6127366\n",
            " 1.75825895 1.74624929 1.69902825 1.73592307 1.62512233 1.92877826\n",
            " 1.82855835 1.49828288 1.57264366 1.74247927 1.99872447 1.79619495\n",
            " 1.89119268 1.40240866 1.73829389 1.52846379 1.98282894 1.90899798\n",
            " 1.86189786 1.7348477  1.70329957 1.73058757 1.70135461 1.69040676\n",
            " 1.72296062 1.8119673  1.85935057 1.96239701 1.79132514 1.81270208\n",
            " 1.7904315  1.8621596  1.63898365 1.70959306 1.62290839 1.71236585\n",
            " 1.69424317 1.4694859  1.75254799 1.68814249 1.86048322 1.68391073\n",
            " 1.68456354 1.90281359 1.56034766 1.68847345 1.69300257 1.65923539\n",
            " 1.46772682 1.79429842 1.89875227 1.7303875  1.90214232 1.82649038\n",
            " 1.77055118 1.68645211 1.86031692 1.75417394 1.58559176 1.53876553\n",
            " 1.75591572 1.85961968 1.8615732  1.63307855 1.82532259 1.62070399\n",
            " 1.94680771 1.47978749 1.92819933 1.94937776 1.84467536 1.3928623\n",
            " 1.55995671 1.7066991  1.39774702 1.88681314 1.70298821 1.89368362\n",
            " 1.67114636 1.73771008 1.73166158 1.93709452 1.86222306 1.78731542\n",
            " 1.8250716  1.79551821 1.22521437 1.47477992 1.74475264 1.7239319\n",
            " 1.78468045 1.59025598 1.75250895 1.5751686  1.96475525 1.73864546\n",
            " 1.87140049 1.67192094 1.64777536 1.4979164  1.90482138 1.82968148\n",
            " 1.65101871 1.55933989 1.77389911 1.54429535 1.91693434 1.86688308\n",
            " 1.80153329 1.68139734 1.7774402  1.97902214 1.56282118 1.74153947\n",
            " 1.94620187 1.46247564 2.02304879 1.76849344 2.14391319 1.64038604\n",
            " 1.6859827  1.43905183 1.75515746 1.66803486 1.40935401 1.78030169\n",
            " 1.69050798 2.03825391 1.7007916  1.60049955 1.89000149 1.88674756\n",
            " 1.59488088 1.66505806 1.98366099 1.64788114 1.45568449 1.61985811\n",
            " 1.50869596 1.86917806 2.02844873 1.79474033 1.96368701 1.70275334\n",
            " 1.93147931 1.99778494 1.83686699 1.84248433 1.7879656  1.50939052\n",
            " 1.91705679 1.7783849  1.9237916  1.90880593 1.91008837 1.57285648\n",
            " 1.99747586 1.78049975 1.62925965 1.69809406 1.73122331 1.54005084\n",
            " 1.55385593 1.92334089 1.84830378 1.71739384 1.78131711 1.82968657\n",
            " 1.83580107 1.79494766 1.73057733 1.71588399 1.47431339 1.96416424\n",
            " 1.92404304 1.86701742 1.80155361 1.73865559 1.81551429 1.6934415\n",
            " 1.81008445 1.87022426 1.51389096 1.78169674 1.88713003 2.0447652\n",
            " 1.75447266 1.87623087 1.73083444 2.00005473 1.8728422  1.25112386\n",
            " 1.8960081  1.99828177 1.59694567 1.79165851 1.51460724 1.75297447\n",
            " 1.7023583  1.65018705 1.75752499 1.88086151 1.76581765 1.97810817\n",
            " 2.00680702 1.73849635 1.85349499 1.79139849 1.90712815 1.8781579\n",
            " 1.77190392 1.69600669 1.81606174 1.67425281 1.81493852 1.82863644\n",
            " 1.97613806 1.72873195 1.60010839 1.62360172 1.73067736 1.67935317\n",
            " 1.87935185 1.40500577 1.79672708 1.54645343 1.88176361 1.64351091\n",
            " 1.6300779  1.83346914 1.80045218 1.89238676 1.83446351 1.81751077\n",
            " 1.84141491 1.76019854 1.75827956 1.80161772 1.63160236 1.70080557\n",
            " 1.74821217 1.55965045 1.86519865 1.74601331 1.64855441 1.94522541\n",
            " 1.77409587 1.89655715 1.39128902 1.52984523 2.07700583 1.55016911\n",
            " 1.66949817 1.5227089  1.92801077 1.77853001 1.86870967 2.13507915\n",
            " 1.93986154 1.52425828 1.76322227 1.71883008 1.97857753 2.2100155\n",
            " 1.56884671 1.58711831 2.01126131 1.6837815  1.4159907  1.6546866\n",
            " 1.63639492 1.4724753  1.72487525 1.7486733  1.5778302  1.70678016\n",
            " 1.63745679 1.48196368 1.35292685 1.82789543 1.52977236 2.05997309\n",
            " 1.72163184 1.26197501 1.76763708 1.80962578 1.73695101 1.82733092\n",
            " 1.73653269 1.70985061 1.60939533 2.07478333 1.79341746 1.60590199\n",
            " 1.78750496 1.66067959 1.76551439 1.67579042 1.63426769 1.77873183\n",
            " 1.86067152 1.8485786  1.79916416 1.89721856 1.63273323 1.81691243\n",
            " 1.91007407 1.33243173 1.37975558 1.7120118  2.06188094 1.81285113\n",
            " 1.95393692 1.71726569 1.59517357 1.86484586 1.77271323 1.89498819\n",
            " 1.59658425 1.69916198 1.77829055 1.89382726 2.01800751 1.76276061\n",
            " 1.78110552 1.83559391 1.69385326 1.79551938 1.61434364 1.92434831\n",
            " 2.11020213 1.58972708 1.62001054 1.85697433 1.85436996 1.65767874\n",
            " 1.58458794 1.76287341 1.60952044 1.56637912 1.51314976 1.54392675\n",
            " 1.598501   1.69624199 1.8710959  1.74118199 1.93406344 1.59042778\n",
            " 1.76349181 1.75543739 1.93583512 1.75032185 1.55988348 1.72282446\n",
            " 1.67839681 1.87685139 1.96658439 1.55396654 1.84163094 1.80602579\n",
            " 1.7646195  1.80844021 1.66363244 1.69533076 1.46138178 1.7029774\n",
            " 1.67281742 1.4801298  1.77971563 1.47751798 1.46808281 1.97341847\n",
            " 1.78835515 1.60020319 1.83937522 1.68591416 1.50434123 1.59937655\n",
            " 1.89701059 1.88015376 1.75976019 1.84191875 1.62272251 1.6769229\n",
            " 1.88098093 1.49891112 1.92541711 1.87442916 1.82637775 1.69303373\n",
            " 1.65329214 1.72978873 1.71435039 1.40270805 1.77313329 1.55813746\n",
            " 1.85218404 1.84668554 1.75541904 1.73715932 1.75675262 1.92333906\n",
            " 1.7988179  1.91244515 1.85743923 1.8389064  1.75986836 1.68904335\n",
            " 1.80790865 1.61784517 1.83057693 1.87932037 1.54539531 1.71729871\n",
            " 1.97951156 1.67667431 1.50358052 1.5368834  1.67288551 1.60199705\n",
            " 1.89972552 2.1032798  1.87549622 1.76197078 1.84699844 1.65767304\n",
            " 1.88294268 1.77077447 1.64307835 1.7802568  1.59945859 1.88287469\n",
            " 1.77884253 1.83879444 1.6310694  1.57741351 1.93386783 1.89848667\n",
            " 1.55239546 1.67173367 1.578107   1.71810791 1.87821875 1.64639332\n",
            " 1.928384   1.82148467 1.82385345 1.67884944 2.08480619 1.87466935\n",
            " 1.61952067 1.94981344 1.72661821 1.69820982 2.10689028 1.87155563\n",
            " 1.48891024 1.60886997 1.71976492 2.07874956 1.76869339 1.69624245\n",
            " 1.71211843 2.03838267 1.81307503 1.4523954  1.68895937 1.81926159\n",
            " 1.72219281 1.87121341 1.71013213 1.67371609 1.88983212 1.67479361\n",
            " 1.7754468  1.72391374 1.8413602  1.99418238 1.52442611 1.71858655\n",
            " 1.44810234 1.87224861 1.86932737 1.93576637 1.56951698 1.75715701\n",
            " 1.87699009 1.50368248 1.49011445 1.70454413 1.80504044 1.82537879\n",
            " 1.74296327 1.70491421 1.66122054 1.88219662 1.82750034 1.81760639\n",
            " 1.65402466 1.70168924 1.69368446 1.92933169 1.80304173 1.79968948\n",
            " 1.65618924 1.65362325 1.59860829 1.55654101 1.55493917 1.69727097\n",
            " 1.56438579 1.79444168 1.59273668 1.81056376 1.80957585 1.7282011\n",
            " 1.79817885 1.72488109 2.03718214 1.72367751 1.85446077 1.98005333\n",
            " 1.59092358 1.78524196 1.65988015 1.86914281 1.64067133 1.85317413\n",
            " 1.77318708 1.89143968 1.95423896 1.56652193 1.924315   1.47525415\n",
            " 1.75250343 1.70611279 1.77271146 1.76677901 1.46182661 1.47605054\n",
            " 1.91728899 1.79471093 2.01566287 2.03867234 1.76613902 1.98130092\n",
            " 1.74436702 1.7577985  1.73619263 1.54515811 1.5885031  1.80554808\n",
            " 1.76921614 1.73764339 1.95867132 1.75325555 1.85851271 1.90977259\n",
            " 1.66762256 1.61336513 1.64933746 1.68731987 1.55715029 1.78386887\n",
            " 1.75592255 1.87115026 1.79284797 1.73403292 1.62987233 1.83923304\n",
            " 1.64097613 1.7950759  1.94463781 1.56585481 1.74875345 1.67584954\n",
            " 1.64925912 1.79277324 1.74490185 1.82805389 1.78660471 1.84165056\n",
            " 1.76684565 1.61434706 1.66467076 1.65028148 1.40015022 1.49865219\n",
            " 1.93076628 1.7389947  1.57294923 1.82188998 1.78016917 1.67196368\n",
            " 1.54864252 1.75837778 1.76740421 1.63670065 1.53984079 2.03740594\n",
            " 1.68136887 1.60936605 1.6975387  1.71447901 1.76808525 1.82762838\n",
            " 2.01008139 1.85807077 1.59950732 1.75762009 1.68521925 1.55750749\n",
            " 1.85145639 1.71047146 1.69895996 1.52415181 1.82159615 1.75400504\n",
            " 1.74042925 1.47581898 1.4269623  1.73134279 1.95052503 1.77795079\n",
            " 1.64485803 1.69980121 1.72838088 1.90013674 1.63128866 1.53166498\n",
            " 1.8994318  1.75848788 1.83266899 1.77821653 1.67173174 1.8058867\n",
            " 1.704032   1.79217758 1.99314372 1.89195728 1.51061646 1.88699112\n",
            " 1.78856247 1.86909439 1.70405665 1.77477833 1.59703069 2.0217426\n",
            " 1.9773442  1.86963307 1.58689385 1.83306381 1.80463536 1.65519568\n",
            " 1.79554114 1.97386022 1.55163014 1.74628778 1.66374177 1.4478283\n",
            " 1.7858126  1.9463381  1.77003263 1.80983329 1.76035271 1.74160526\n",
            " 1.83285364 1.63074904 1.71442409 1.6965601  1.59780501 1.74596048\n",
            " 1.65894939 1.79013449 1.57161428 1.6755124  1.91177743 1.85896789\n",
            " 1.67177277 1.71178285 1.81685947 1.68300378 1.74160043 1.94092415\n",
            " 1.85483749 1.64737307 1.81249606 1.53307204 1.85614634 1.61605282\n",
            " 1.62495362 2.01201405 1.78475094 1.72213128 1.70010096 1.90931165\n",
            " 2.06768274 1.67394702 1.7616936  1.68109215 1.58690345 1.57577516\n",
            " 1.95370911 1.454764   1.68575686 1.58990034 1.76167859 1.52101736\n",
            " 1.79674655 1.41964417 1.66696897 1.87691132 1.70994287 1.77073854\n",
            " 1.95449841 1.84614729 1.81277812 1.46152542 1.85993739 1.8299492\n",
            " 1.99144    1.65835859 2.13040265 1.59877353 1.53543924 1.80070581\n",
            " 1.82335431 1.86880533 1.79584663 1.93323865 1.4935712  1.65447557\n",
            " 2.077422   2.00133508 1.39442408 1.65926341 1.68097942 1.54340735\n",
            " 1.63705933 1.81288585 1.70732151 1.86000448 1.65412794 2.02957965\n",
            " 1.32098642 1.75052126 1.58225853 1.83496638 2.01361221 1.78393839\n",
            " 1.67729918 1.82836161 1.82162552 2.08255562 1.59710034 1.94099562\n",
            " 1.59457173 1.94114622 1.81727662 1.87708483 1.81550875 1.72919004\n",
            " 1.58742277 1.61377771 1.89191555 1.71116869 1.6352179  1.80456151\n",
            " 1.90438876 1.68133221 1.68119952 1.88101726 1.76490303 1.60102032\n",
            " 2.20090495 1.62499776 1.97297662 1.57406697 1.78404502 1.49788278\n",
            " 1.70239578 1.81699758 1.67198478 1.90536108 1.65939897 1.72329816\n",
            " 1.93466182 1.45925238 1.81765144 1.50851599 1.52993515 1.60818582\n",
            " 1.79918421 1.9547023  1.70104998 1.65651385 1.7923704  1.77273022\n",
            " 1.78443392 1.80823075 1.93668341 1.70000537 1.83089234 1.77449985\n",
            " 1.75514936 1.85369724 1.55223777 1.73825887 2.02316182 1.75675737\n",
            " 1.76643936 1.78041849 1.87205015 1.87155462 1.7258085  1.51272387\n",
            " 1.89910883 1.68895742 1.92895769 1.67530276 2.05615174 1.74005508\n",
            " 1.73642371 1.64328093 1.80214077 1.8780622  1.74295412 2.2051893\n",
            " 1.99357087 1.47303283 1.89327436 1.65499204]\n"
          ],
          "name": "stdout"
        }
      ]
    },
    {
      "cell_type": "markdown",
      "metadata": {
        "id": "PiBtzyz1C2uh"
      },
      "source": [
        "¿Cómo comenzamos a caracterizar la distribución de datos? Representandolos gráficamente mediante un histograma. Un histograma básico simplemente cuenta la cantidad de veces que la variable aleatoria cae dentro del intervalo definido por cada *bin*:"
      ]
    },
    {
      "cell_type": "code",
      "metadata": {
        "id": "lI-f3Z34boFD",
        "colab": {
          "base_uri": "https://localhost:8080/",
          "height": 265
        },
        "outputId": "4d18cf2c-9318-47e7-b9cb-2f60997089b4"
      },
      "source": [
        "# Los parámetros que seteo en principio son:\n",
        "# - Número de bins\n",
        "# - Rango de los datos que voy a representar (sin especificar nada, toma el mínimo y el máximo)\n",
        "# - rwidth es solo para visualizar, en vez de dibujar toda la barra, la angosta un poquito\n",
        "plt.hist(muestra, bins = 20, range = [1.1, 2.4], rwidth = 0.80)\n",
        "plt.ylabel('Frecuencia')\n",
        "plt.show()"
      ],
      "execution_count": null,
      "outputs": [
        {
          "output_type": "display_data",
          "data": {
            "image/png": "[encoded data removed]",
            "text/plain": [
              "<Figure size 432x288 with 1 Axes>"
            ]
          },
          "metadata": {
            "tags": [],
            "needs_background": "light"
          }
        }
      ]
    },
    {
      "cell_type": "markdown",
      "metadata": {
        "id": "m4n4eN9QDmGK"
      },
      "source": [
        "Ya un histograma nos dá una buena idea de cómo se distribuyen los datos. Sin embargo, la visualización puede ser engañosa, por lo que está bueno ver cómo se modifica la distribución al variar el número de bins."
      ]
    },
    {
      "cell_type": "markdown",
      "metadata": {
        "id": "Cf0MuSpmr4Yj"
      },
      "source": [
        "\n",
        "\n",
        "\n",
        "<p><a name=\"UnaBuePracReaHis\"></a></p>\n",
        "\n",
        "## 1.6. Una buena practica es realziar los histogramas con diferentes cantidad de bins para viusalizar la mejor visualizacion\n",
        "\n",
        "\n"
      ]
    },
    {
      "cell_type": "code",
      "metadata": {
        "colab": {
          "base_uri": "https://localhost:8080/",
          "height": 227
        },
        "id": "HEFHT44VVfVr",
        "outputId": "8b8a3840-214f-4f34-9d92-a909f4ca27fe"
      },
      "source": [
        "fig, ax = plt.subplots(nrows = 1, ncols = 4, figsize = (15, 3))\n",
        "fig_index = 0 # indice de las figuras\n",
        "\n",
        "# Barro en número de bins\n",
        "for nbins in [5, 10, 20, 100]:\n",
        "\n",
        "  ax[fig_index].hist(muestra, bins = nbins, range = [1.00, 2.50], rwidth = 0.80)\n",
        "  ax[fig_index].set_title('{} bins'.format(nbins))\n",
        "  fig_index += 1 # Realiza en avance del [5, 10, 20, 100]\n",
        "\n",
        "ax[0].set_ylabel('Frecuencia')\n",
        "plt.show()"
      ],
      "execution_count": null,
      "outputs": [
        {
          "output_type": "display_data",
          "data": {
            "image/png": "[encoded data removed]",
            "text/plain": [
              "<Figure size 1080x216 with 4 Axes>"
            ]
          },
          "metadata": {
            "tags": [],
            "needs_background": "light"
          }
        }
      ]
    },
    {
      "cell_type": "markdown",
      "metadata": {
        "id": "r-Ts_di1RbxJ"
      },
      "source": [
        "\n",
        "\n",
        "\n",
        "\n",
        "<p><a name=\"NorComDisTeo\"></a></p>\n",
        "\n",
        "## 1.7. Normalización y comparación con distribución teórica\n",
        "\n",
        "\n",
        "\n",
        " \n"
      ]
    },
    {
      "cell_type": "markdown",
      "metadata": {
        "id": "sUdv6vzMVNlR"
      },
      "source": [
        "\n",
        "\n",
        "Muchas veces vamos a querer comparar la distribución de nuestros datos con alguna distribución teórica (si tiene parámetros, quizás inferidos de la misma muestra, pero eso ya se va de tema). Como toda distribución está normalizada, para comparar con un histograma este mismo también tiene que estarlo. Esto significa que el área que cubren los bins es igual a 1."
      ]
    },
    {
      "cell_type": "code",
      "metadata": {
        "colab": {
          "base_uri": "https://localhost:8080/",
          "height": 265
        },
        "id": "Mc_uf9dWWnIG",
        "outputId": "51c889ed-eed9-4c46-f5e6-2cd50af56bb2"
      },
      "source": [
        "# Density = True -> histograma normalizado\n",
        "plt.hist(muestra, bins = 20, range = [1.00, 2.50], rwidth = 0.80, density = True)\n",
        "\n",
        "# Lo comparamos con la distribución teórica (esto es trampa, es muy probable que nunca la sepamos)\n",
        "x = np.arange(1.00, 2.50, 0.01)\n",
        "plt.plot(x, stats.norm.pdf(x, loc = 1.75, scale = 0.15), label = 'Teórica')\n",
        "\n",
        "plt.ylabel('Densidad de probabilidad') # Nombre del eje y\n",
        "plt.legend(loc = 'best') # Mejor localizacion\n",
        "plt.show() # visualización"
      ],
      "execution_count": null,
      "outputs": [
        {
          "output_type": "display_data",
          "data": {
            "image/png": "[encoded data removed]",
            "text/plain": [
              "<Figure size 432x288 with 1 Axes>"
            ]
          },
          "metadata": {
            "tags": [],
            "needs_background": "light"
          }
        }
      ]
    },
    {
      "cell_type": "markdown",
      "metadata": {
        "id": "4MxC43s8GAwA"
      },
      "source": [
        "Por otro lado, podemos estudiar la distribución acumulada:"
      ]
    },
    {
      "cell_type": "code",
      "metadata": {
        "colab": {
          "base_uri": "https://localhost:8080/",
          "height": 265
        },
        "id": "blWzLqboXndc",
        "outputId": "08a839c4-0013-403f-b5bb-5756b8645454"
      },
      "source": [
        "# Cumulative = True -> acumulada\n",
        "plt.hist(muestra, bins = 20, range = [1.00, 2.50], rwidth = 0.80, density = True, cumulative = True)\n",
        "\n",
        "x = np.arange(1.00, 2.50, 0.01)\n",
        "plt.plot(x, stats.norm.cdf(x, loc = 1.75, scale = 0.15), label = 'Teórica')\n",
        "\n",
        "plt.ylabel('Probablidad acumulada')\n",
        "plt.legend(loc = 'best')\n",
        "plt.show()"
      ],
      "execution_count": null,
      "outputs": [
        {
          "output_type": "display_data",
          "data": {
            "image/png": "[encoded data removed]",
            "text/plain": [
              "<Figure size 432x288 with 1 Axes>"
            ]
          },
          "metadata": {
            "tags": [],
            "needs_background": "light"
          }
        }
      ]
    },
    {
      "cell_type": "markdown",
      "metadata": {
        "id": "omMyopyyRe2Y"
      },
      "source": [
        "\n",
        "\n",
        "\n",
        "<p><a name=\"ObsEst\"></a></p>\n",
        "\n",
        "## 1.8. Observables estadísticos \n",
        "\n",
        "\n",
        "\n",
        " \n",
        "\n",
        " \n"
      ]
    },
    {
      "cell_type": "markdown",
      "metadata": {
        "id": "XBQSJIPijcQ5"
      },
      "source": [
        "\n",
        "\n",
        "\n",
        "\n",
        "\n",
        "\n",
        "Además de la visualización, otra forma de cuantificar la distribución es mediante el cálculo de ciertos observables tales como: \n",
        "\n",
        "- Media $ \\bar X = \\frac{1}{N} \\sum_i^N X_i $\n",
        "\n",
        "- Varianza $S^2 = \\frac{1}{N-1} \\sum_i^N (X_i - \\bar X)^2$\n",
        "\n",
        "- Desviación $S = \\sqrt{S^2}$\n",
        "\n",
        "- Mediana $m$ / $P(X \\leq m) = 0.5$\n",
        "\n",
        "- $\\alpha$-cuantil: $c$ / $P(X \\leq c) = \\alpha$"
      ]
    },
    {
      "cell_type": "code",
      "metadata": {
        "colab": {
          "base_uri": "https://localhost:8080/"
        },
        "id": "9k65IOVot0V0",
        "outputId": "5d170c4d-0127-4ded-f3f2-1faf69699af3"
      },
      "source": [
        "muestra\n"
      ],
      "execution_count": null,
      "outputs": [
        {
          "output_type": "execute_result",
          "data": {
            "text/plain": [
              "array([1.90431377, 1.69841252, 1.50826321, 1.78819224, 1.94672632,\n",
              "       1.52504918, 1.58152618, 1.65910894, 1.64016893, 1.88267455,\n",
              "       1.68768875, 1.83830305, 1.6236485 , 1.58727143, 1.78194887,\n",
              "       1.90663014, 2.02549971, 1.80073923, 2.03562369, 1.53608111,\n",
              "       1.50896542, 1.72711003, 1.69459484, 1.5483853 , 2.03852783,\n",
              "       1.51380299, 1.5708037 , 1.96910089, 1.65746893, 1.49391331,\n",
              "       1.68485269, 1.75763022, 1.85875302, 1.50926286, 1.86930653,\n",
              "       1.94546252, 2.14623007, 1.43810437, 1.81998237, 1.77196027,\n",
              "       1.79147442, 1.84377305, 1.9197917 , 1.7180943 , 1.71320372,\n",
              "       2.23944284, 1.92313953, 1.73384558, 1.82161923, 1.78115441,\n",
              "       1.64156733, 1.89961949, 1.82426335, 1.73750343, 1.81020947,\n",
              "       1.82788838, 1.69015538, 1.67160235, 1.81275942, 1.72532085,\n",
              "       1.6796981 , 1.83722578, 1.89064652, 1.6490858 , 1.60512711,\n",
              "       1.62404587, 1.68807723, 1.73978482, 1.78511871, 1.69764399,\n",
              "       1.6344139 , 1.6724321 , 1.81161112, 1.67729416, 1.42286214,\n",
              "       1.77387433, 1.58070912, 1.95492465, 1.72813933, 1.67533379,\n",
              "       1.82443469, 1.67773876, 1.68237373, 1.76962981, 1.72076678,\n",
              "       1.59927058, 1.54257067, 2.06432178, 2.01238437, 1.63796549,\n",
              "       1.85558376, 1.60039204, 1.81577259, 1.73612325, 1.66830436,\n",
              "       1.63947578, 1.64611402, 1.77369645, 1.73311096, 1.50174943,\n",
              "       1.74779961, 1.76123866, 1.60863058, 1.74648183, 1.64206402,\n",
              "       1.98862195, 1.84546093, 1.56711614, 1.87130581, 1.79293711,\n",
              "       1.48899746, 1.59508903, 1.60655484, 1.89592133, 1.77487255,\n",
              "       1.716122  , 1.95807931, 1.73705651, 1.88409941, 1.65896002,\n",
              "       1.89432408, 1.83911926, 1.77355471, 2.18147212, 1.58982571,\n",
              "       1.58344992, 1.826288  , 1.47705556, 1.56886747, 1.67384561,\n",
              "       1.63268962, 1.65882974, 1.67369169, 1.63927765, 1.71718341,\n",
              "       1.63796202, 1.9573969 , 1.73912743, 1.79258166, 1.84071705,\n",
              "       1.51031311, 1.69329081, 1.75930626, 1.62541534, 1.68611616,\n",
              "       1.85306972, 1.71358845, 1.64132179, 1.61235485, 1.71077514,\n",
              "       1.56044477, 1.49301796, 1.74715931, 1.88046719, 1.68456942,\n",
              "       1.63892248, 1.67885863, 1.87669719, 1.59287259, 1.76299712,\n",
              "       1.86519699, 1.65882759, 1.66123915, 1.535027  , 1.75294926,\n",
              "       1.78749436, 1.77251662, 1.6127366 , 1.75825895, 1.74624929,\n",
              "       1.69902825, 1.73592307, 1.62512233, 1.92877826, 1.82855835,\n",
              "       1.49828288, 1.57264366, 1.74247927, 1.99872447, 1.79619495,\n",
              "       1.89119268, 1.40240866, 1.73829389, 1.52846379, 1.98282894,\n",
              "       1.90899798, 1.86189786, 1.7348477 , 1.70329957, 1.73058757,\n",
              "       1.70135461, 1.69040676, 1.72296062, 1.8119673 , 1.85935057,\n",
              "       1.96239701, 1.79132514, 1.81270208, 1.7904315 , 1.8621596 ,\n",
              "       1.63898365, 1.70959306, 1.62290839, 1.71236585, 1.69424317,\n",
              "       1.4694859 , 1.75254799, 1.68814249, 1.86048322, 1.68391073,\n",
              "       1.68456354, 1.90281359, 1.56034766, 1.68847345, 1.69300257,\n",
              "       1.65923539, 1.46772682, 1.79429842, 1.89875227, 1.7303875 ,\n",
              "       1.90214232, 1.82649038, 1.77055118, 1.68645211, 1.86031692,\n",
              "       1.75417394, 1.58559176, 1.53876553, 1.75591572, 1.85961968,\n",
              "       1.8615732 , 1.63307855, 1.82532259, 1.62070399, 1.94680771,\n",
              "       1.47978749, 1.92819933, 1.94937776, 1.84467536, 1.3928623 ,\n",
              "       1.55995671, 1.7066991 , 1.39774702, 1.88681314, 1.70298821,\n",
              "       1.89368362, 1.67114636, 1.73771008, 1.73166158, 1.93709452,\n",
              "       1.86222306, 1.78731542, 1.8250716 , 1.79551821, 1.22521437,\n",
              "       1.47477992, 1.74475264, 1.7239319 , 1.78468045, 1.59025598,\n",
              "       1.75250895, 1.5751686 , 1.96475525, 1.73864546, 1.87140049,\n",
              "       1.67192094, 1.64777536, 1.4979164 , 1.90482138, 1.82968148,\n",
              "       1.65101871, 1.55933989, 1.77389911, 1.54429535, 1.91693434,\n",
              "       1.86688308, 1.80153329, 1.68139734, 1.7774402 , 1.97902214,\n",
              "       1.56282118, 1.74153947, 1.94620187, 1.46247564, 2.02304879,\n",
              "       1.76849344, 2.14391319, 1.64038604, 1.6859827 , 1.43905183,\n",
              "       1.75515746, 1.66803486, 1.40935401, 1.78030169, 1.69050798,\n",
              "       2.03825391, 1.7007916 , 1.60049955, 1.89000149, 1.88674756,\n",
              "       1.59488088, 1.66505806, 1.98366099, 1.64788114, 1.45568449,\n",
              "       1.61985811, 1.50869596, 1.86917806, 2.02844873, 1.79474033,\n",
              "       1.96368701, 1.70275334, 1.93147931, 1.99778494, 1.83686699,\n",
              "       1.84248433, 1.7879656 , 1.50939052, 1.91705679, 1.7783849 ,\n",
              "       1.9237916 , 1.90880593, 1.91008837, 1.57285648, 1.99747586,\n",
              "       1.78049975, 1.62925965, 1.69809406, 1.73122331, 1.54005084,\n",
              "       1.55385593, 1.92334089, 1.84830378, 1.71739384, 1.78131711,\n",
              "       1.82968657, 1.83580107, 1.79494766, 1.73057733, 1.71588399,\n",
              "       1.47431339, 1.96416424, 1.92404304, 1.86701742, 1.80155361,\n",
              "       1.73865559, 1.81551429, 1.6934415 , 1.81008445, 1.87022426,\n",
              "       1.51389096, 1.78169674, 1.88713003, 2.0447652 , 1.75447266,\n",
              "       1.87623087, 1.73083444, 2.00005473, 1.8728422 , 1.25112386,\n",
              "       1.8960081 , 1.99828177, 1.59694567, 1.79165851, 1.51460724,\n",
              "       1.75297447, 1.7023583 , 1.65018705, 1.75752499, 1.88086151,\n",
              "       1.76581765, 1.97810817, 2.00680702, 1.73849635, 1.85349499,\n",
              "       1.79139849, 1.90712815, 1.8781579 , 1.77190392, 1.69600669,\n",
              "       1.81606174, 1.67425281, 1.81493852, 1.82863644, 1.97613806,\n",
              "       1.72873195, 1.60010839, 1.62360172, 1.73067736, 1.67935317,\n",
              "       1.87935185, 1.40500577, 1.79672708, 1.54645343, 1.88176361,\n",
              "       1.64351091, 1.6300779 , 1.83346914, 1.80045218, 1.89238676,\n",
              "       1.83446351, 1.81751077, 1.84141491, 1.76019854, 1.75827956,\n",
              "       1.80161772, 1.63160236, 1.70080557, 1.74821217, 1.55965045,\n",
              "       1.86519865, 1.74601331, 1.64855441, 1.94522541, 1.77409587,\n",
              "       1.89655715, 1.39128902, 1.52984523, 2.07700583, 1.55016911,\n",
              "       1.66949817, 1.5227089 , 1.92801077, 1.77853001, 1.86870967,\n",
              "       2.13507915, 1.93986154, 1.52425828, 1.76322227, 1.71883008,\n",
              "       1.97857753, 2.2100155 , 1.56884671, 1.58711831, 2.01126131,\n",
              "       1.6837815 , 1.4159907 , 1.6546866 , 1.63639492, 1.4724753 ,\n",
              "       1.72487525, 1.7486733 , 1.5778302 , 1.70678016, 1.63745679,\n",
              "       1.48196368, 1.35292685, 1.82789543, 1.52977236, 2.05997309,\n",
              "       1.72163184, 1.26197501, 1.76763708, 1.80962578, 1.73695101,\n",
              "       1.82733092, 1.73653269, 1.70985061, 1.60939533, 2.07478333,\n",
              "       1.79341746, 1.60590199, 1.78750496, 1.66067959, 1.76551439,\n",
              "       1.67579042, 1.63426769, 1.77873183, 1.86067152, 1.8485786 ,\n",
              "       1.79916416, 1.89721856, 1.63273323, 1.81691243, 1.91007407,\n",
              "       1.33243173, 1.37975558, 1.7120118 , 2.06188094, 1.81285113,\n",
              "       1.95393692, 1.71726569, 1.59517357, 1.86484586, 1.77271323,\n",
              "       1.89498819, 1.59658425, 1.69916198, 1.77829055, 1.89382726,\n",
              "       2.01800751, 1.76276061, 1.78110552, 1.83559391, 1.69385326,\n",
              "       1.79551938, 1.61434364, 1.92434831, 2.11020213, 1.58972708,\n",
              "       1.62001054, 1.85697433, 1.85436996, 1.65767874, 1.58458794,\n",
              "       1.76287341, 1.60952044, 1.56637912, 1.51314976, 1.54392675,\n",
              "       1.598501  , 1.69624199, 1.8710959 , 1.74118199, 1.93406344,\n",
              "       1.59042778, 1.76349181, 1.75543739, 1.93583512, 1.75032185,\n",
              "       1.55988348, 1.72282446, 1.67839681, 1.87685139, 1.96658439,\n",
              "       1.55396654, 1.84163094, 1.80602579, 1.7646195 , 1.80844021,\n",
              "       1.66363244, 1.69533076, 1.46138178, 1.7029774 , 1.67281742,\n",
              "       1.4801298 , 1.77971563, 1.47751798, 1.46808281, 1.97341847,\n",
              "       1.78835515, 1.60020319, 1.83937522, 1.68591416, 1.50434123,\n",
              "       1.59937655, 1.89701059, 1.88015376, 1.75976019, 1.84191875,\n",
              "       1.62272251, 1.6769229 , 1.88098093, 1.49891112, 1.92541711,\n",
              "       1.87442916, 1.82637775, 1.69303373, 1.65329214, 1.72978873,\n",
              "       1.71435039, 1.40270805, 1.77313329, 1.55813746, 1.85218404,\n",
              "       1.84668554, 1.75541904, 1.73715932, 1.75675262, 1.92333906,\n",
              "       1.7988179 , 1.91244515, 1.85743923, 1.8389064 , 1.75986836,\n",
              "       1.68904335, 1.80790865, 1.61784517, 1.83057693, 1.87932037,\n",
              "       1.54539531, 1.71729871, 1.97951156, 1.67667431, 1.50358052,\n",
              "       1.5368834 , 1.67288551, 1.60199705, 1.89972552, 2.1032798 ,\n",
              "       1.87549622, 1.76197078, 1.84699844, 1.65767304, 1.88294268,\n",
              "       1.77077447, 1.64307835, 1.7802568 , 1.59945859, 1.88287469,\n",
              "       1.77884253, 1.83879444, 1.6310694 , 1.57741351, 1.93386783,\n",
              "       1.89848667, 1.55239546, 1.67173367, 1.578107  , 1.71810791,\n",
              "       1.87821875, 1.64639332, 1.928384  , 1.82148467, 1.82385345,\n",
              "       1.67884944, 2.08480619, 1.87466935, 1.61952067, 1.94981344,\n",
              "       1.72661821, 1.69820982, 2.10689028, 1.87155563, 1.48891024,\n",
              "       1.60886997, 1.71976492, 2.07874956, 1.76869339, 1.69624245,\n",
              "       1.71211843, 2.03838267, 1.81307503, 1.4523954 , 1.68895937,\n",
              "       1.81926159, 1.72219281, 1.87121341, 1.71013213, 1.67371609,\n",
              "       1.88983212, 1.67479361, 1.7754468 , 1.72391374, 1.8413602 ,\n",
              "       1.99418238, 1.52442611, 1.71858655, 1.44810234, 1.87224861,\n",
              "       1.86932737, 1.93576637, 1.56951698, 1.75715701, 1.87699009,\n",
              "       1.50368248, 1.49011445, 1.70454413, 1.80504044, 1.82537879,\n",
              "       1.74296327, 1.70491421, 1.66122054, 1.88219662, 1.82750034,\n",
              "       1.81760639, 1.65402466, 1.70168924, 1.69368446, 1.92933169,\n",
              "       1.80304173, 1.79968948, 1.65618924, 1.65362325, 1.59860829,\n",
              "       1.55654101, 1.55493917, 1.69727097, 1.56438579, 1.79444168,\n",
              "       1.59273668, 1.81056376, 1.80957585, 1.7282011 , 1.79817885,\n",
              "       1.72488109, 2.03718214, 1.72367751, 1.85446077, 1.98005333,\n",
              "       1.59092358, 1.78524196, 1.65988015, 1.86914281, 1.64067133,\n",
              "       1.85317413, 1.77318708, 1.89143968, 1.95423896, 1.56652193,\n",
              "       1.924315  , 1.47525415, 1.75250343, 1.70611279, 1.77271146,\n",
              "       1.76677901, 1.46182661, 1.47605054, 1.91728899, 1.79471093,\n",
              "       2.01566287, 2.03867234, 1.76613902, 1.98130092, 1.74436702,\n",
              "       1.7577985 , 1.73619263, 1.54515811, 1.5885031 , 1.80554808,\n",
              "       1.76921614, 1.73764339, 1.95867132, 1.75325555, 1.85851271,\n",
              "       1.90977259, 1.66762256, 1.61336513, 1.64933746, 1.68731987,\n",
              "       1.55715029, 1.78386887, 1.75592255, 1.87115026, 1.79284797,\n",
              "       1.73403292, 1.62987233, 1.83923304, 1.64097613, 1.7950759 ,\n",
              "       1.94463781, 1.56585481, 1.74875345, 1.67584954, 1.64925912,\n",
              "       1.79277324, 1.74490185, 1.82805389, 1.78660471, 1.84165056,\n",
              "       1.76684565, 1.61434706, 1.66467076, 1.65028148, 1.40015022,\n",
              "       1.49865219, 1.93076628, 1.7389947 , 1.57294923, 1.82188998,\n",
              "       1.78016917, 1.67196368, 1.54864252, 1.75837778, 1.76740421,\n",
              "       1.63670065, 1.53984079, 2.03740594, 1.68136887, 1.60936605,\n",
              "       1.6975387 , 1.71447901, 1.76808525, 1.82762838, 2.01008139,\n",
              "       1.85807077, 1.59950732, 1.75762009, 1.68521925, 1.55750749,\n",
              "       1.85145639, 1.71047146, 1.69895996, 1.52415181, 1.82159615,\n",
              "       1.75400504, 1.74042925, 1.47581898, 1.4269623 , 1.73134279,\n",
              "       1.95052503, 1.77795079, 1.64485803, 1.69980121, 1.72838088,\n",
              "       1.90013674, 1.63128866, 1.53166498, 1.8994318 , 1.75848788,\n",
              "       1.83266899, 1.77821653, 1.67173174, 1.8058867 , 1.704032  ,\n",
              "       1.79217758, 1.99314372, 1.89195728, 1.51061646, 1.88699112,\n",
              "       1.78856247, 1.86909439, 1.70405665, 1.77477833, 1.59703069,\n",
              "       2.0217426 , 1.9773442 , 1.86963307, 1.58689385, 1.83306381,\n",
              "       1.80463536, 1.65519568, 1.79554114, 1.97386022, 1.55163014,\n",
              "       1.74628778, 1.66374177, 1.4478283 , 1.7858126 , 1.9463381 ,\n",
              "       1.77003263, 1.80983329, 1.76035271, 1.74160526, 1.83285364,\n",
              "       1.63074904, 1.71442409, 1.6965601 , 1.59780501, 1.74596048,\n",
              "       1.65894939, 1.79013449, 1.57161428, 1.6755124 , 1.91177743,\n",
              "       1.85896789, 1.67177277, 1.71178285, 1.81685947, 1.68300378,\n",
              "       1.74160043, 1.94092415, 1.85483749, 1.64737307, 1.81249606,\n",
              "       1.53307204, 1.85614634, 1.61605282, 1.62495362, 2.01201405,\n",
              "       1.78475094, 1.72213128, 1.70010096, 1.90931165, 2.06768274,\n",
              "       1.67394702, 1.7616936 , 1.68109215, 1.58690345, 1.57577516,\n",
              "       1.95370911, 1.454764  , 1.68575686, 1.58990034, 1.76167859,\n",
              "       1.52101736, 1.79674655, 1.41964417, 1.66696897, 1.87691132,\n",
              "       1.70994287, 1.77073854, 1.95449841, 1.84614729, 1.81277812,\n",
              "       1.46152542, 1.85993739, 1.8299492 , 1.99144   , 1.65835859,\n",
              "       2.13040265, 1.59877353, 1.53543924, 1.80070581, 1.82335431,\n",
              "       1.86880533, 1.79584663, 1.93323865, 1.4935712 , 1.65447557,\n",
              "       2.077422  , 2.00133508, 1.39442408, 1.65926341, 1.68097942,\n",
              "       1.54340735, 1.63705933, 1.81288585, 1.70732151, 1.86000448,\n",
              "       1.65412794, 2.02957965, 1.32098642, 1.75052126, 1.58225853,\n",
              "       1.83496638, 2.01361221, 1.78393839, 1.67729918, 1.82836161,\n",
              "       1.82162552, 2.08255562, 1.59710034, 1.94099562, 1.59457173,\n",
              "       1.94114622, 1.81727662, 1.87708483, 1.81550875, 1.72919004,\n",
              "       1.58742277, 1.61377771, 1.89191555, 1.71116869, 1.6352179 ,\n",
              "       1.80456151, 1.90438876, 1.68133221, 1.68119952, 1.88101726,\n",
              "       1.76490303, 1.60102032, 2.20090495, 1.62499776, 1.97297662,\n",
              "       1.57406697, 1.78404502, 1.49788278, 1.70239578, 1.81699758,\n",
              "       1.67198478, 1.90536108, 1.65939897, 1.72329816, 1.93466182,\n",
              "       1.45925238, 1.81765144, 1.50851599, 1.52993515, 1.60818582,\n",
              "       1.79918421, 1.9547023 , 1.70104998, 1.65651385, 1.7923704 ,\n",
              "       1.77273022, 1.78443392, 1.80823075, 1.93668341, 1.70000537,\n",
              "       1.83089234, 1.77449985, 1.75514936, 1.85369724, 1.55223777,\n",
              "       1.73825887, 2.02316182, 1.75675737, 1.76643936, 1.78041849,\n",
              "       1.87205015, 1.87155462, 1.7258085 , 1.51272387, 1.89910883,\n",
              "       1.68895742, 1.92895769, 1.67530276, 2.05615174, 1.74005508,\n",
              "       1.73642371, 1.64328093, 1.80214077, 1.8780622 , 1.74295412,\n",
              "       2.2051893 , 1.99357087, 1.47303283, 1.89327436, 1.65499204])"
            ]
          },
          "metadata": {
            "tags": []
          },
          "execution_count": 36
        }
      ]
    },
    {
      "cell_type": "code",
      "metadata": {
        "colab": {
          "base_uri": "https://localhost:8080/"
        },
        "id": "odmVoNusYynt",
        "outputId": "2c7ab6f7-0960-4c2c-d59e-6dd5b3b4b90e"
      },
      "source": [
        "# Cálculo de los observables con numpy\n",
        "\n",
        "media = np.mean(muestra)\n",
        "varianza = np.var(muestra)\n",
        "desviacion = np.std(muestra)\n",
        "\n",
        "mediana = np.median(muestra)\n",
        "cuartiles = np.quantile(muestra, [0.25, 0.50, 0.75])\n",
        "\n",
        "print('Media = {:.3f}'.format(media))\n",
        "print('Desviacion = {:.3f}'.format(desviacion))\n",
        "print('Varianza = {:.3f}'.format(varianza))\n",
        "\n",
        "print('Mediana = {:.3f}'.format(mediana))\n",
        "print('Cuartiles 25%, 50%, 75% = {:.3f}, {:.3f}, {:.3f}'.format(*cuartiles))"
      ],
      "execution_count": null,
      "outputs": [
        {
          "output_type": "stream",
          "text": [
            "Media = 1.746\n",
            "Desviacion = 0.153\n",
            "Varianza = 0.023\n",
            "Mediana = 1.749\n",
            "Cuartiles 25%, 50%, 75% = 1.648, 1.749, 1.847\n"
          ],
          "name": "stdout"
        }
      ]
    },
    {
      "cell_type": "markdown",
      "metadata": {
        "id": "omCUWIt8KVF-"
      },
      "source": [
        "Los cuantiles dividen nuestros datos en la cantidad que le especifiquemos. Por ejemplo, la mediana es el punto donde la mitad de los datos son mayores (o menores) o iguales a esta.\n",
        "Si los cuantiles se refieren al 25%, 50% y 75%, se denominan cuartiles. El cuantil del 50% es exactamente igual a la mediana."
      ]
    },
    {
      "cell_type": "code",
      "metadata": {
        "colab": {
          "base_uri": "https://localhost:8080/",
          "height": 265
        },
        "id": "xdAxZRTglNMX",
        "outputId": "96f28036-9ff5-4a15-97e5-e25f495d0d1b"
      },
      "source": [
        "### Visualizacion de los cuantiles\n",
        "plt.hist(muestra, bins = 50, range = [1.2, 2.4], density = True, cumulative = True, rwidth = 0.80)\n",
        "\n",
        "# Cambiar aqui lo cuantiles que se quieran visualizar\n",
        "for c in [0.20, 0.80]:\n",
        "  # Donde 0.20 es el punto donde estará el primer cuantiles\n",
        "  # Donde 0.80 es el punto donde estará el tercer cuantiles\n",
        "\n",
        "  # A continuacion se raliza las líenas \n",
        "  plt.hlines(y = c, xmin = 1.2, xmax = np.quantile(muestra, c), linestyle = '-.', color = 'r', alpha = 0.65, linewidth = 3)\n",
        "  plt.vlines(x = np.quantile(muestra, c), ymin = 0.00, ymax = c, linestyles= '-.', color = 'r', alpha = 0.65, linewidth = 3)\n",
        "\n",
        "  #linestyles = Tipo de linea sea segmentado -- o -.\n",
        "  # alpha = Que tan resaltado debe estar la linea\n",
        "  # linewidth = Ancho las líenas\n",
        "  # color = El color que se quier asignar a las líneas\n",
        "\n",
        "plt.ylabel('Probabilidad acumulada') # nombramiento del eje y\n",
        "plt.ylim([0.00, 1.05]) # alto de ejer y\n",
        "plt.xlim([1.2, 2.4])   # Ancho del eje x\n",
        "plt.show()"
      ],
      "execution_count": null,
      "outputs": [
        {
          "output_type": "display_data",
          "data": {
            "image/png": "[encoded data removed]",
            "text/plain": [
              "<Figure size 432x288 with 1 Axes>"
            ]
          },
          "metadata": {
            "tags": [],
            "needs_background": "light"
          }
        }
      ]
    },
    {
      "cell_type": "markdown",
      "metadata": {
        "id": "02sDHKRjRhfw"
      },
      "source": [
        "\n",
        "\n",
        "\n",
        "\n",
        "<p><a name=\"OtrDisVarAleCon\"></a></p>\n",
        "\n",
        "## 1.9. Otras distribuciones de variables aleatorias continuas\n",
        "\n",
        "\n",
        "\n",
        " \n",
        "\n",
        " \n"
      ]
    },
    {
      "cell_type": "markdown",
      "metadata": {
        "id": "p69UhS1dY0Wo"
      },
      "source": [
        "\n",
        "\n",
        "Veamos un poco datos generados con otras distribuciones, representemos en histogramas y calculemos los distintos observables."
      ]
    },
    {
      "cell_type": "code",
      "metadata": {
        "id": "_boWn3XjwknM"
      },
      "source": [
        "# Distribucion uniforme entre 0 y 1\n",
        "distribucion = stats.uniform()"
      ],
      "execution_count": null,
      "outputs": []
    },
    {
      "cell_type": "code",
      "metadata": {
        "id": "uymSNBNxwnqT"
      },
      "source": [
        "# Muestra de numeros aleatorios\n",
        "N = 1000\n",
        "muestra = distribucion.rvs(size = N)"
      ],
      "execution_count": null,
      "outputs": []
    },
    {
      "cell_type": "code",
      "metadata": {
        "colab": {
          "base_uri": "https://localhost:8080/"
        },
        "id": "dOZJLcMrwpDb",
        "outputId": "593026ae-baea-4efc-ecf4-c4deb85e99e9"
      },
      "source": [
        "muestra "
      ],
      "execution_count": null,
      "outputs": [
        {
          "output_type": "execute_result",
          "data": {
            "text/plain": [
              "array([0.05373233, 0.97792592, 0.46183556, 0.23158582, 0.20043079,\n",
              "       0.95170813, 0.07178183, 0.9439931 , 0.42822776, 0.7276859 ,\n",
              "       0.65513821, 0.2260965 , 0.46789046, 0.763501  , 0.79264383,\n",
              "       0.45779771, 0.1582847 , 0.88641338, 0.86720867, 0.21123628,\n",
              "       0.9610098 , 0.80083726, 0.72032498, 0.07743845, 0.31222633,\n",
              "       0.25085815, 0.1279263 , 0.16724611, 0.33533166, 0.98830555,\n",
              "       0.84290628, 0.16120121, 0.58272685, 0.51897429, 0.10994237,\n",
              "       0.94974697, 0.29908837, 0.03100917, 0.6590396 , 0.67525371,\n",
              "       0.66637304, 0.40553017, 0.99477736, 0.81976983, 0.16343726,\n",
              "       0.63437638, 0.665487  , 0.69407397, 0.64285533, 0.66458124,\n",
              "       0.85682311, 0.99876304, 0.50231622, 0.99269664, 0.5216527 ,\n",
              "       0.8058364 , 0.38033983, 0.11519251, 0.90224658, 0.43213664,\n",
              "       0.7435252 , 0.72721088, 0.42020595, 0.62733896, 0.80434906,\n",
              "       0.78111349, 0.64885464, 0.03272788, 0.17308363, 0.51040988,\n",
              "       0.03534139, 0.50655364, 0.19495916, 0.27823676, 0.42561604,\n",
              "       0.59552224, 0.2367026 , 0.6022672 , 0.35918733, 0.0411117 ,\n",
              "       0.58455775, 0.30376102, 0.19637882, 0.23465972, 0.44196469,\n",
              "       0.21679843, 0.9277457 , 0.29805155, 0.14056151, 0.56322293,\n",
              "       0.74491203, 0.98263024, 0.91690927, 0.64278854, 0.42585466,\n",
              "       0.98825167, 0.79343276, 0.64835553, 0.13795864, 0.63649986,\n",
              "       0.75378664, 0.93417621, 0.24415038, 0.2001521 , 0.68140687,\n",
              "       0.4710042 , 0.07140119, 0.71890714, 0.88656651, 0.70529178,\n",
              "       0.26693884, 0.71975403, 0.38272041, 0.16873334, 0.2073181 ,\n",
              "       0.97752211, 0.58940018, 0.49613615, 0.80807035, 0.6507841 ,\n",
              "       0.08236971, 0.12946165, 0.00308857, 0.62287567, 0.65763711,\n",
              "       0.97341837, 0.80914671, 0.06270858, 0.00559729, 0.65045289,\n",
              "       0.9234753 , 0.57156575, 0.92574417, 0.3481148 , 0.84104524,\n",
              "       0.26177561, 0.30395048, 0.27196299, 0.2633016 , 0.14747296,\n",
              "       0.92397356, 0.82577723, 0.735652  , 0.06967968, 0.8151458 ,\n",
              "       0.95244082, 0.11800992, 0.06456922, 0.58771778, 0.82198411,\n",
              "       0.2926886 , 0.98355292, 0.79050996, 0.78646117, 0.88693707,\n",
              "       0.25996048, 0.64781748, 0.32189033, 0.56890639, 0.57011971,\n",
              "       0.99644935, 0.83241716, 0.45794103, 0.73541353, 0.21348538,\n",
              "       0.82690517, 0.05109334, 0.21395606, 0.08511114, 0.86341635,\n",
              "       0.31761093, 0.56954104, 0.91478069, 0.92152351, 0.29168816,\n",
              "       0.314734  , 0.78683081, 0.24160768, 0.84745576, 0.58637245,\n",
              "       0.63823686, 0.04399613, 0.27597824, 0.38246599, 0.49545561,\n",
              "       0.30424833, 0.01823326, 0.61053475, 0.48481793, 0.93851846,\n",
              "       0.63898052, 0.50624936, 0.24930057, 0.36109069, 0.99872511,\n",
              "       0.76491342, 0.57659232, 0.27148032, 0.5377659 , 0.64322413,\n",
              "       0.02555338, 0.28580107, 0.63096946, 0.87214668, 0.24280596,\n",
              "       0.85748533, 0.95938296, 0.03515819, 0.33298893, 0.94121237,\n",
              "       0.51693407, 0.21131328, 0.64953456, 0.62626215, 0.9619691 ,\n",
              "       0.52493684, 0.07047213, 0.58566337, 0.09656561, 0.20289943,\n",
              "       0.75752236, 0.19307122, 0.56026184, 0.51792474, 0.44596735,\n",
              "       0.77811273, 0.22495325, 0.03830616, 0.51935895, 0.76616298,\n",
              "       0.28948062, 0.14940486, 0.34923631, 0.43196056, 0.17519731,\n",
              "       0.35099127, 0.8661253 , 0.90027114, 0.41802428, 0.69908586,\n",
              "       0.53900162, 0.87148792, 0.7442448 , 0.95190016, 0.72591898,\n",
              "       0.50775275, 0.57376892, 0.47140631, 0.49781183, 0.81603442,\n",
              "       0.03599536, 0.01796083, 0.63383965, 0.23887821, 0.07149982,\n",
              "       0.54730115, 0.14807424, 0.53195213, 0.37471099, 0.61533247,\n",
              "       0.88591095, 0.27224197, 0.06770112, 0.33377004, 0.92950627,\n",
              "       0.01969805, 0.55209356, 0.41848041, 0.01919854, 0.50418444,\n",
              "       0.52006085, 0.72558845, 0.83661697, 0.63757427, 0.25509492,\n",
              "       0.73223804, 0.30950408, 0.01468736, 0.12777937, 0.63358303,\n",
              "       0.71735052, 0.61513695, 0.55270117, 0.81091819, 0.4888651 ,\n",
              "       0.14750324, 0.1516085 , 0.89596889, 0.9223319 , 0.77144954,\n",
              "       0.65044842, 0.87083032, 0.75288408, 0.42021915, 0.66509804,\n",
              "       0.77893883, 0.43342523, 0.78768251, 0.76865475, 0.19901169,\n",
              "       0.93938195, 0.15172832, 0.51154287, 0.41967504, 0.47540362,\n",
              "       0.29525186, 0.10495884, 0.47939037, 0.00368846, 0.65857278,\n",
              "       0.50750236, 0.31126418, 0.80093531, 0.58133011, 0.47515199,\n",
              "       0.83545473, 0.74851291, 0.02048774, 0.10787298, 0.84949185,\n",
              "       0.16284912, 0.71661788, 0.19092667, 0.15648682, 0.0045035 ,\n",
              "       0.35699509, 0.28131319, 0.21023344, 0.55099776, 0.00334293,\n",
              "       0.15274045, 0.39396607, 0.26573054, 0.25864771, 0.0183572 ,\n",
              "       0.17536677, 0.54875323, 0.86685321, 0.49734809, 0.24661619,\n",
              "       0.05674203, 0.99249892, 0.74064808, 0.22958968, 0.43527927,\n",
              "       0.44433669, 0.14564092, 0.85147943, 0.02157294, 0.58558841,\n",
              "       0.10944058, 0.33101936, 0.66247607, 0.62439106, 0.63125881,\n",
              "       0.35684515, 0.34706934, 0.63702878, 0.75067087, 0.67589493,\n",
              "       0.790621  , 0.80226039, 0.75927779, 0.80381184, 0.00633615,\n",
              "       0.54242557, 0.00312899, 0.26050762, 0.04572877, 0.76690917,\n",
              "       0.64138127, 0.38488531, 0.36902039, 0.51569371, 0.22118589,\n",
              "       0.51883378, 0.53767637, 0.5335063 , 0.57629654, 0.51182809,\n",
              "       0.58539177, 0.95954388, 0.14209046, 0.87708757, 0.45849933,\n",
              "       0.7497751 , 0.84301883, 0.81213052, 0.81800962, 0.35722442,\n",
              "       0.85017294, 0.56711182, 0.09030788, 0.24512243, 0.29533679,\n",
              "       0.6038387 , 0.32164227, 0.02487036, 0.71788907, 0.51666289,\n",
              "       0.91759032, 0.32377469, 0.09331624, 0.59775289, 0.48494482,\n",
              "       0.02968762, 0.08112661, 0.90295012, 0.94624633, 0.30838618,\n",
              "       0.62138262, 0.97034849, 0.19326824, 0.18218933, 0.70971761,\n",
              "       0.21543727, 0.75189632, 0.53604097, 0.13352267, 0.62131903,\n",
              "       0.86207626, 0.33969866, 0.12385536, 0.93664717, 0.54205405,\n",
              "       0.77606811, 0.86602089, 0.02671089, 0.25893517, 0.37144478,\n",
              "       0.2357637 , 0.9420759 , 0.85697805, 0.69393448, 0.42125019,\n",
              "       0.35146646, 0.85894945, 0.70272892, 0.08583819, 0.9960759 ,\n",
              "       0.2654494 , 0.30771081, 0.68444693, 0.02747083, 0.68193077,\n",
              "       0.66016343, 0.10780795, 0.17054285, 0.99031992, 0.42167704,\n",
              "       0.48110469, 0.18276414, 0.03087325, 0.05178131, 0.81473336,\n",
              "       0.21137654, 0.37746758, 0.51122935, 0.81427255, 0.34610764,\n",
              "       0.23434932, 0.3567337 , 0.77377334, 0.61057406, 0.30455021,\n",
              "       0.86678754, 0.94399621, 0.31464351, 0.60193174, 0.076962  ,\n",
              "       0.37455633, 0.04909625, 0.68693617, 0.30395917, 0.91062233,\n",
              "       0.4542431 , 0.80884482, 0.5630423 , 0.84560644, 0.97396428,\n",
              "       0.38486762, 0.32139122, 0.319521  , 0.50442511, 0.01699758,\n",
              "       0.91972321, 0.43516635, 0.49429157, 0.62172483, 0.19071304,\n",
              "       0.8333807 , 0.55974113, 0.6384645 , 0.39203648, 0.91364841,\n",
              "       0.15376616, 0.19624308, 0.68006893, 0.02892623, 0.06870543,\n",
              "       0.45915317, 0.98739165, 0.81474817, 0.61433   , 0.24716855,\n",
              "       0.61134552, 0.84609802, 0.69615601, 0.84128999, 0.063443  ,\n",
              "       0.80651128, 0.80207885, 0.45556841, 0.03375982, 0.99901016,\n",
              "       0.64958205, 0.70348006, 0.11405226, 0.4193377 , 0.6106872 ,\n",
              "       0.98977144, 0.62812175, 0.05321546, 0.01207955, 0.95496761,\n",
              "       0.73879939, 0.66222322, 0.83397605, 0.64995385, 0.43380744,\n",
              "       0.1554675 , 0.9364156 , 0.37788566, 0.9620135 , 0.73020899,\n",
              "       0.61948834, 0.16861855, 0.17506479, 0.94838989, 0.65793072,\n",
              "       0.51149074, 0.71093472, 0.13888684, 0.26006783, 0.94060412,\n",
              "       0.69104526, 0.84258665, 0.6136524 , 0.87357502, 0.20233123,\n",
              "       0.17551994, 0.0573344 , 0.34484595, 0.28209144, 0.15505552,\n",
              "       0.18640489, 0.36592111, 0.6538712 , 0.67460427, 0.0331615 ,\n",
              "       0.56219958, 0.13377658, 0.59658135, 0.97331943, 0.92669703,\n",
              "       0.80107471, 0.0578714 , 0.9721242 , 0.84657126, 0.18697936,\n",
              "       0.36090533, 0.9944104 , 0.80342339, 0.93025192, 0.64762744,\n",
              "       0.08111624, 0.79072539, 0.45309636, 0.44392186, 0.13850887,\n",
              "       0.17346274, 0.47160415, 0.74754673, 0.20445376, 0.15566063,\n",
              "       0.01553722, 0.31511081, 0.01758716, 0.86664521, 0.12935123,\n",
              "       0.18366756, 0.61814869, 0.78253587, 0.84514882, 0.48676997,\n",
              "       0.23089424, 0.70917941, 0.13078145, 0.3346812 , 0.38605185,\n",
              "       0.29561865, 0.13776949, 0.01444211, 0.39952089, 0.36321123,\n",
              "       0.06361259, 0.50101925, 0.35348791, 0.93348952, 0.28197678,\n",
              "       0.04841178, 0.55187762, 0.93383852, 0.40861779, 0.99448287,\n",
              "       0.48072986, 0.38364752, 0.74636825, 0.99618045, 0.85987254,\n",
              "       0.14895467, 0.47639345, 0.39703982, 0.53966695, 0.7479641 ,\n",
              "       0.92484926, 0.24612665, 0.70316555, 0.39334458, 0.3445223 ,\n",
              "       0.62401518, 0.22784568, 0.50683734, 0.26252317, 0.09061924,\n",
              "       0.5644537 , 0.15102841, 0.23386642, 0.51472935, 0.47152845,\n",
              "       0.51806994, 0.18722373, 0.774203  , 0.76921688, 0.65489652,\n",
              "       0.77727703, 0.83130716, 0.11559269, 0.41757132, 0.24417603,\n",
              "       0.88445194, 0.54746014, 0.37214657, 0.80886655, 0.58171836,\n",
              "       0.65105989, 0.55250511, 0.90439982, 0.95594841, 0.91506402,\n",
              "       0.05654211, 0.49771776, 0.28437761, 0.68356822, 0.2886789 ,\n",
              "       0.49745203, 0.33758147, 0.21301605, 0.23222975, 0.71820321,\n",
              "       0.98504654, 0.6618439 , 0.9159779 , 0.47753833, 0.77364976,\n",
              "       0.77869366, 0.57994795, 0.37743691, 0.51497034, 0.41519356,\n",
              "       0.70004858, 0.73728454, 0.96843764, 0.14824332, 0.12759456,\n",
              "       0.50158356, 0.54787655, 0.05356444, 0.81942808, 0.61422846,\n",
              "       0.66478292, 0.08326044, 0.16172666, 0.20270567, 0.02686573,\n",
              "       0.71880107, 0.69654952, 0.19341926, 0.81371292, 0.75273869,\n",
              "       0.3287706 , 0.82776594, 0.71158962, 0.90588434, 0.69447337,\n",
              "       0.09439299, 0.97033027, 0.10500434, 0.33627261, 0.52044261,\n",
              "       0.89112605, 0.23875968, 0.36113415, 0.97557529, 0.71052098,\n",
              "       0.98910362, 0.03407891, 0.41352066, 0.71905884, 0.71673169,\n",
              "       0.47798392, 0.2430683 , 0.58112222, 0.57518034, 0.44859709,\n",
              "       0.83826819, 0.39420213, 0.86336322, 0.19067296, 0.10552442,\n",
              "       0.69983208, 0.21160052, 0.51124768, 0.62650935, 0.69995027,\n",
              "       0.69843973, 0.53254221, 0.21178079, 0.91953477, 0.76671819,\n",
              "       0.67032992, 0.69970762, 0.10304045, 0.97372155, 0.66513816,\n",
              "       0.80658912, 0.77116833, 0.79519289, 0.65793074, 0.05456984,\n",
              "       0.7373766 , 0.61880467, 0.43854237, 0.32395923, 0.92455184,\n",
              "       0.73161436, 0.05769762, 0.05984674, 0.72888632, 0.97288549,\n",
              "       0.52894251, 0.13468105, 0.03373398, 0.39179103, 0.19352783,\n",
              "       0.70046763, 0.96679405, 0.80134627, 0.83069247, 0.66103905,\n",
              "       0.99861935, 0.78344802, 0.84791386, 0.48535578, 0.70679661,\n",
              "       0.77128159, 0.94157712, 0.29476847, 0.48784322, 0.47001365,\n",
              "       0.00706389, 0.15642715, 0.12961949, 0.52392957, 0.89165573,\n",
              "       0.32997211, 0.03008362, 0.1481409 , 0.60717397, 0.80174818,\n",
              "       0.03992703, 0.95324261, 0.7859511 , 0.57338227, 0.42868103,\n",
              "       0.64640279, 0.88363976, 0.84442893, 0.0986297 , 0.59916479,\n",
              "       0.69013967, 0.86353046, 0.68994559, 0.8940878 , 0.475297  ,\n",
              "       0.49146092, 0.81789286, 0.6974974 , 0.39619206, 0.61962247,\n",
              "       0.75329156, 0.14123842, 0.57964976, 0.40262708, 0.31263329,\n",
              "       0.14591751, 0.17351837, 0.95664466, 0.13256558, 0.64118394,\n",
              "       0.97792563, 0.76514494, 0.21713243, 0.12957169, 0.67534665,\n",
              "       0.10272885, 0.0547153 , 0.03561178, 0.3795401 , 0.96836473,\n",
              "       0.46199566, 0.1301126 , 0.52977043, 0.73962676, 0.18276686,\n",
              "       0.10255667, 0.69245425, 0.25361011, 0.43724346, 0.63301124,\n",
              "       0.19544067, 0.37043739, 0.35077304, 0.5189728 , 0.93116705,\n",
              "       0.5449963 , 0.27237059, 0.95438583, 0.90534995, 0.48653953,\n",
              "       0.03064274, 0.66882304, 0.58183168, 0.32894847, 0.14202654,\n",
              "       0.36969872, 0.72900492, 0.50274341, 0.52353378, 0.9992992 ,\n",
              "       0.9697239 , 0.82047294, 0.65020396, 0.96406462, 0.17380538,\n",
              "       0.55335916, 0.246604  , 0.47229211, 0.96171621, 0.45249868,\n",
              "       0.75390163, 0.05341015, 0.47574594, 0.36039822, 0.9090247 ,\n",
              "       0.92088799, 0.3150871 , 0.44408329, 0.69129554, 0.05695712,\n",
              "       0.56759875, 0.82531265, 0.40199955, 0.81210573, 0.97835165,\n",
              "       0.94463646, 0.31023779, 0.08378275, 0.64150898, 0.78010606,\n",
              "       0.34173624, 0.2481157 , 0.07438018, 0.1334805 , 0.12878781,\n",
              "       0.49791087, 0.37600005, 0.27821912, 0.19881618, 0.87136437,\n",
              "       0.2178422 , 0.76268326, 0.56995343, 0.84797923, 0.77377303,\n",
              "       0.64940199, 0.06220442, 0.54831525, 0.43563829, 0.98734133,\n",
              "       0.35392783, 0.05423983, 0.11466724, 0.25642693, 0.5689042 ,\n",
              "       0.26716129, 0.57746674, 0.30419788, 0.58777747, 0.09280496,\n",
              "       0.11028639, 0.36697778, 0.65536286, 0.61011659, 0.23649666,\n",
              "       0.3400656 , 0.63695642, 0.94871036, 0.31613749, 0.99067719,\n",
              "       0.24915202, 0.35295241, 0.4025721 , 0.47530466, 0.02330084,\n",
              "       0.77418224, 0.52781172, 0.18119199, 0.02302671, 0.27224961,\n",
              "       0.30649245, 0.51038056, 0.12383404, 0.47236996, 0.72806667,\n",
              "       0.25029211, 0.00854317, 0.72741881, 0.41694484, 0.52605797,\n",
              "       0.86376531, 0.61779276, 0.3506472 , 0.23412876, 0.40003649,\n",
              "       0.4119392 , 0.19078101, 0.51048201, 0.99379544, 0.47655671,\n",
              "       0.45521932, 0.23407769, 0.45940864, 0.23827346, 0.62566727,\n",
              "       0.70709494, 0.28109007, 0.76784358, 0.02294856, 0.31447481,\n",
              "       0.60655092, 0.13702678, 0.44701364, 0.46299688, 0.72449364,\n",
              "       0.80597517, 0.05743089, 0.08793436, 0.2072806 , 0.1154932 ,\n",
              "       0.60168493, 0.15027212, 0.20997211, 0.65825941, 0.0753362 ,\n",
              "       0.89617964, 0.72949577, 0.5097813 , 0.76067521, 0.84059816,\n",
              "       0.91152829, 0.59144347, 0.18561883, 0.2793863 , 0.35475586,\n",
              "       0.73524483, 0.24443066, 0.61666317, 0.73627125, 0.27989746])"
            ]
          },
          "metadata": {
            "tags": []
          },
          "execution_count": 64
        }
      ]
    },
    {
      "cell_type": "code",
      "metadata": {
        "id": "gkAV5mGbwyA7"
      },
      "source": [
        "# Rango de la variable x \n",
        "x = np.arange(0.00, 1.01, 0.01)\n",
        "# Se realiza un vector de 0 hasta 1.01 con una separecion 0.01"
      ],
      "execution_count": null,
      "outputs": []
    },
    {
      "cell_type": "code",
      "metadata": {
        "colab": {
          "base_uri": "https://localhost:8080/"
        },
        "id": "DxbOtvSTw9ty",
        "outputId": "3b017539-20aa-4434-dfa6-9ec109f353bd"
      },
      "source": [
        "x "
      ],
      "execution_count": null,
      "outputs": [
        {
          "output_type": "execute_result",
          "data": {
            "text/plain": [
              "array([0.  , 0.01, 0.02, 0.03, 0.04, 0.05, 0.06, 0.07, 0.08, 0.09, 0.1 ,\n",
              "       0.11, 0.12, 0.13, 0.14, 0.15, 0.16, 0.17, 0.18, 0.19, 0.2 , 0.21,\n",
              "       0.22, 0.23, 0.24, 0.25, 0.26, 0.27, 0.28, 0.29, 0.3 , 0.31, 0.32,\n",
              "       0.33, 0.34, 0.35, 0.36, 0.37, 0.38, 0.39, 0.4 , 0.41, 0.42, 0.43,\n",
              "       0.44, 0.45, 0.46, 0.47, 0.48, 0.49, 0.5 , 0.51, 0.52, 0.53, 0.54,\n",
              "       0.55, 0.56, 0.57, 0.58, 0.59, 0.6 , 0.61, 0.62, 0.63, 0.64, 0.65,\n",
              "       0.66, 0.67, 0.68, 0.69, 0.7 , 0.71, 0.72, 0.73, 0.74, 0.75, 0.76,\n",
              "       0.77, 0.78, 0.79, 0.8 , 0.81, 0.82, 0.83, 0.84, 0.85, 0.86, 0.87,\n",
              "       0.88, 0.89, 0.9 , 0.91, 0.92, 0.93, 0.94, 0.95, 0.96, 0.97, 0.98,\n",
              "       0.99, 1.  ])"
            ]
          },
          "metadata": {
            "tags": []
          },
          "execution_count": 67
        }
      ]
    },
    {
      "cell_type": "code",
      "metadata": {
        "colab": {
          "base_uri": "https://localhost:8080/",
          "height": 279
        },
        "id": "fA66byUgfnxY",
        "outputId": "fcbd40a8-b57b-4adc-cc35-18c0a74c73f1"
      },
      "source": [
        "fig, ax = plt.subplots(nrows=1, ncols = 2, figsize = (15, 3))\n",
        "\n",
        "# Histograma de los datos  \n",
        "ax[0].hist(muestra, bins = 20, range = [0, 1], rwidth = 0.8, density = True)\n",
        "\n",
        "# Densidad de probabilidad teórica\n",
        "ax[0].plot(x, distribucion.pdf(x))\n",
        "ax[0].set_ylabel('Densidad de probabilidad')\n",
        "\n",
        "# Histograma acumulado de los datos  \n",
        "ax[1].hist(muestra, bins = 20, range = [0, 1], rwidth = 0.8, cumulative = True, density = True)\n",
        "\n",
        "# Probabilidad acumulada teórica\n",
        "ax[1].plot(x, distribucion.cdf(x))\n",
        "ax[1].set_ylabel('Probabilidad acumulada')\n",
        "  \n",
        "plt.show()\n",
        "\n",
        "print('Media = {:.3f}'.format(np.mean(muestra)))\n",
        "print('Desviacion = {:.3f}'.format(np.std(muestra)))\n",
        "print('Mediana = {:.3f}'.format(np.median(muestra)))\n",
        "print('90% central = [{:.3f} - {:.3f}]'.format(*np.quantile(muestra, [0.05, 0.95])))"
      ],
      "execution_count": null,
      "outputs": [
        {
          "output_type": "display_data",
          "data": {
            "image/png": "[encoded data removed]",
            "text/plain": [
              "<Figure size 1080x216 with 2 Axes>"
            ]
          },
          "metadata": {
            "tags": [],
            "needs_background": "light"
          }
        },
        {
          "output_type": "stream",
          "text": [
            "Media = 0.502\n",
            "Desviacion = 0.290\n",
            "Mediana = 0.512\n",
            "90% central = [0.048 - 0.956]\n"
          ],
          "name": "stdout"
        }
      ]
    },
    {
      "cell_type": "code",
      "metadata": {
        "colab": {
          "base_uri": "https://localhost:8080/",
          "height": 283
        },
        "id": "yZBtE3teY3v3",
        "outputId": "c42225da-6f39-46a7-c8e4-979af36d94e8"
      },
      "source": [
        "# Distribucion exponencial\n",
        "distribucion = stats.expon()\n",
        "\n",
        "# Muestra de numeros aleatorios\n",
        "N = 1000\n",
        "muestra = distribucion.rvs(size = N)\n",
        "\n",
        "# Rango de la variable x \n",
        "x = np.arange(0.00, 8.01, 0.01)\n",
        "\n",
        "fig, ax = plt.subplots(nrows=1, ncols = 2, figsize = (15, 3))\n",
        "\n",
        "# Histograma de los datos  \n",
        "ax[0].hist(muestra, bins = 20, range = [0, 8], rwidth = 0.8, density = True)\n",
        "\n",
        "# Densidad de probabilidad teórica\n",
        "ax[0].plot(x, distribucion.pdf(x))\n",
        "ax[0].set_ylabel('Densidad de probabilidad')\n",
        "\n",
        "# Histograma acumulado de los datos  \n",
        "ax[1].hist(muestra, bins = 20, range = [0, 8], rwidth = 0.8, cumulative = True, density = True)\n",
        "\n",
        "# Probabilidad acumulada teórica\n",
        "ax[1].plot(x, distribucion.cdf(x))\n",
        "ax[1].set_ylabel('Probabilidad acumulada')\n",
        "  \n",
        "plt.show()\n",
        "\n",
        "print('Media = {:.3f}'.format(np.mean(muestra)))\n",
        "print('Desviacion = {:.3f}'.format(np.std(muestra)))\n",
        "print('Mediana = {:.3f}'.format(np.median(muestra)))\n",
        "print('90% central = [{:.3f} - {:.3f}]'.format(*np.quantile(muestra, [0.05, 0.95])))"
      ],
      "execution_count": null,
      "outputs": [
        {
          "output_type": "display_data",
          "data": {
            "image/png": "[encoded data removed]",
            "text/plain": [
              "<Figure size 1080x216 with 2 Axes>"
            ]
          },
          "metadata": {
            "tags": [],
            "needs_background": "light"
          }
        },
        {
          "output_type": "stream",
          "text": [
            "Media = 1.001\n",
            "Desviacion = 0.988\n",
            "Mediana = 0.713\n",
            "90% central = [0.050 - 3.036]\n"
          ],
          "name": "stdout"
        }
      ]
    },
    {
      "cell_type": "markdown",
      "metadata": {
        "id": "P5WVku3HRkZn"
      },
      "source": [
        "\n",
        "\n",
        "<p><a name=\"VarDis\"></a></p>\n",
        "\n",
        "## 1.10. Variables discretas\n",
        "\n",
        "\n",
        "\n",
        " \n",
        "\n",
        " \n",
        "\n"
      ]
    },
    {
      "cell_type": "markdown",
      "metadata": {
        "id": "PwhdqGTbdsct"
      },
      "source": [
        "\n",
        "\n",
        "Tener presente la [documentación](https://docs.scipy.org/doc/scipy/reference/stats.html#discrete-distributions) de scipy para variables discretas para ver algunos cambios sútiles respecto de las de variables continuas (por ejemplo, el cambio del método .pdf() por .pmf()).\n",
        "\n"
      ]
    },
    {
      "cell_type": "code",
      "metadata": {
        "colab": {
          "base_uri": "https://localhost:8080/",
          "height": 302
        },
        "id": "i8jis8HUdrym",
        "outputId": "08fdbc91-4593-4674-9a92-fd762cbacf45"
      },
      "source": [
        "# Distribucion binomial\n",
        "distribucion = stats.binom(n = 10, p = 0.25)\n",
        "\n",
        "# Muestra de numeros aleatorios\n",
        "N = 1000\n",
        "muestra = distribucion.rvs(size = N)\n",
        "\n",
        "# Rango de la variable x \n",
        "x = range(0, 11)\n",
        "\n",
        "fig, ax = plt.subplots(nrows=1, ncols = 2, figsize = (15, 3))\n",
        "\n",
        "# Histograma de los datos  \n",
        "ax[0].hist(muestra, bins = 11, range = [0, 11], rwidth = 0.8, density = True)\n",
        "\n",
        "# Masa de probabilidad teórica (notar el cambio aquí respecto de las distribuciones continuas)\n",
        "ax[0].plot(x, distribucion.pmf(x), '.-', markersize = 15)\n",
        "\n",
        "# Histograma acumulado de los datos  \n",
        "ax[1].hist(muestra, bins = 11, range = [0, 11], rwidth = 0.8, cumulative = True, density = True)\n",
        "\n",
        "# Probabilidad acumulada teórica\n",
        "ax[1].plot(x, distribucion.cdf(x), '.-', markersize = 15)\n",
        "  \n",
        "plt.show()\n",
        "\n",
        "print('Media = {:.3f}'.format(np.mean(muestra)))\n",
        "print('Desviacion = {:.3f}'.format(np.std(muestra)))\n",
        "print('Mediana = {:.3f}'.format(np.median(muestra)))\n",
        "print('90% central = [{:.3f} - {:.3f}]'.format(*np.quantile(muestra, [0.05, 0.95])))\n",
        "\n",
        "# Para variables discretas podemos calcular la moda\n",
        "print('Moda: {} - freq: {}'.format(stats.mode(muestra)[0][0], stats.mode(muestra)[1][0]))"
      ],
      "execution_count": null,
      "outputs": [
        {
          "output_type": "display_data",
          "data": {
            "image/png": "[encoded data removed]",
            "text/plain": [
              "<Figure size 1080x216 with 2 Axes>"
            ]
          },
          "metadata": {
            "tags": [],
            "needs_background": "light"
          }
        },
        {
          "output_type": "stream",
          "text": [
            "Media = 2.469\n",
            "Desviacion = 1.364\n",
            "Mediana = 2.000\n",
            "90% central = [0.000 - 5.000]\n",
            "Moda: 2 - freq: 291\n"
          ],
          "name": "stdout"
        }
      ]
    },
    {
      "cell_type": "markdown",
      "metadata": {
        "id": "WJHFfU_KfBh5"
      },
      "source": [
        "Como otro ejemplo de distribución discreta se puede estudiar la distribución de Poisson."
      ]
    },
    {
      "cell_type": "markdown",
      "metadata": {
        "id": "M2dpk4DJRnKg"
      },
      "source": [
        "\n",
        "\n",
        "<p><a name=\"AtaNumPanEst\"></a></p>\n",
        "\n",
        "## 1.11. Atajos en Numpy y Pandas para estadística descriptiva\n",
        "\n",
        "\n",
        "\n",
        " \n"
      ]
    },
    {
      "cell_type": "markdown",
      "metadata": {
        "id": "Vn6jmvhUbE5n"
      },
      "source": [
        "\n",
        "\n",
        "Si nuestros datos están en un array de numpy o bien un dataframe en pandas, estos objetos tienen métodos para calcular rápidamente ciertos observables."
      ]
    },
    {
      "cell_type": "code",
      "metadata": {
        "colab": {
          "base_uri": "https://localhost:8080/"
        },
        "id": "dHfHUmZuHSnY",
        "outputId": "e333958f-2518-4366-f69d-f41952390bd7"
      },
      "source": [
        "# Array de numpy \n",
        "A = np.array([[1, 2, 3, 3], [3, 1, 3, 9], [0, 0, 1, 2]])\n",
        "\n",
        "# Observables por fila o columnas\n",
        "print('Media: {}'.format(A.mean(axis = 0)))\n",
        "print('Desviacion: {}'.format(A.std(axis = 0)))"
      ],
      "execution_count": null,
      "outputs": [
        {
          "output_type": "stream",
          "text": [
            "Media: [1.33333333 1.         2.33333333 4.66666667]\n",
            "Desviacion: [1.24721913 0.81649658 0.94280904 3.09120617]\n"
          ],
          "name": "stdout"
        }
      ]
    },
    {
      "cell_type": "code",
      "metadata": {
        "colab": {
          "base_uri": "https://localhost:8080/"
        },
        "id": "T9p-kpROpvpa",
        "outputId": "d313cef1-bf5b-42be-908b-6ef93e93de11"
      },
      "source": [
        "# Histrogramas\n",
        "\n",
        "data = np.random.normal(loc = 0.00, scale = 1.00, size = 1000)\n",
        "freq, bin_limits = np.histogram(data, bins = 10)\n",
        "\n",
        "print('Frecuencia por bin: {}'.format(freq))\n",
        "print('Límite de los bins: {}'.format(bin_limits))"
      ],
      "execution_count": null,
      "outputs": [
        {
          "output_type": "stream",
          "text": [
            "Frecuencia por bin: [  2  25  73 155 253 229 168  67  20   8]\n",
            "Límite de los bins: [-3.14157849 -2.51834675 -1.89511501 -1.27188327 -0.64865153 -0.02541978\n",
            "  0.59781196  1.2210437   1.84427544  2.46750718  3.09073892]\n"
          ],
          "name": "stdout"
        }
      ]
    },
    {
      "cell_type": "code",
      "metadata": {
        "id": "kKX291iaz6gr",
        "colab": {
          "base_uri": "https://localhost:8080/",
          "height": 623
        },
        "outputId": "3bef9c13-cae5-4a64-88a2-1d2ecc82ef72"
      },
      "source": [
        "# Atajos en pandas \n",
        "\n",
        "import pandas as pd \n",
        "\n",
        "dataframe = pd.DataFrame()\n",
        "dataframe['x'] = np.random.normal(loc = 3.00, scale = 1.00, size = 100)\n",
        "dataframe['y'] = np.random.exponential(scale = 2.00, size = 100)\n",
        "dataframe['z'] = np.random.binomial(n = 10, p = 0.75, size = 100)\n",
        "\n",
        "print('Media:')\n",
        "print(dataframe.mean())\n",
        "\n",
        "print('Desviacion:')\n",
        "print(dataframe.std())\n",
        "\n",
        "print('90% central:')\n",
        "print(dataframe.quantile([0.5, 0.95]))\n",
        "\n",
        "print('Mediana:')\n",
        "print(dataframe.median())\n",
        "\n",
        "print('Moda de la variable discreta: ')\n",
        "print(dataframe['z'].mode())\n",
        "\n",
        "# Histogramas \n",
        "fig, ax = plt.subplots(1, 3, figsize = (15, 3))\n",
        "dataframe.hist(ax = ax, bins = 20, rwidth = 0.8, grid = False, cumulative = False, density = True)\n",
        "plt.show()"
      ],
      "execution_count": null,
      "outputs": [
        {
          "output_type": "stream",
          "text": [
            "Media:\n",
            "x    2.999271\n",
            "y    2.097894\n",
            "z    7.600000\n",
            "dtype: float64\n",
            "Desviacion:\n",
            "x    0.991073\n",
            "y    2.299977\n",
            "z    1.370689\n",
            "dtype: float64\n",
            "90% central:\n",
            "             x         y     z\n",
            "0.50  2.945449  1.367255  8.00\n",
            "0.95  4.522569  5.704590  9.05\n",
            "Mediana:\n",
            "x    2.945449\n",
            "y    1.367255\n",
            "z    8.000000\n",
            "dtype: float64\n",
            "Moda de la variable discreta: \n",
            "0    8\n",
            "dtype: int64\n"
          ],
          "name": "stdout"
        },
        {
          "output_type": "display_data",
          "data": {
            "image/png": "[encoded data removed]",
            "text/plain": [
              "<Figure size 1080x216 with 3 Axes>"
            ]
          },
          "metadata": {
            "tags": [],
            "needs_background": "light"
          }
        }
      ]
    },
    {
      "cell_type": "markdown",
      "metadata": {
        "id": "oFmGXAKJRqu3"
      },
      "source": [
        "\n",
        "\n",
        "\n",
        "<p><a name=\"AlgComFin\"></a></p>\n",
        "\n",
        "## 1.12. Algunos comentarios finales \n",
        "\n",
        "\n",
        "\n",
        " \n",
        "\n",
        " \n",
        "\n",
        "\n",
        "  \n"
      ]
    },
    {
      "cell_type": "markdown",
      "metadata": {
        "id": "AUN0gliHqSth"
      },
      "source": [
        "\n",
        "\n",
        "Log-normal y power-law\n",
        "\n",
        "Muchas veces los histogramas de datos que provengan de una log-normal o de una power-law pueden confundirse al presentar, por ejemplo, una gran probabilidad de que la variable aleatoria sea cercana a 0, al mismo tiempo de una probabilidad baja, pero no nula, para valores altos (lo que se denomina a veces como *cola pesada*)."
      ]
    },
    {
      "cell_type": "code",
      "metadata": {
        "colab": {
          "base_uri": "https://localhost:8080/",
          "height": 241
        },
        "id": "VlG_rx3zbdJu",
        "outputId": "13c8bd32-accd-4474-c005-d2c6d562e9aa"
      },
      "source": [
        "# Histogramas log-normal y power-law\n",
        "distribucion_lognormal = stats.lognorm(s = 2.00)\n",
        "distribucion_powerlaw = stats.powerlaw(0.10, scale = 1000)\n",
        "\n",
        "muestra_lognormal = distribucion_lognormal.rvs(size = 1000)\n",
        "muestra_powerlaw = distribucion_powerlaw.rvs(size = 1000)\n",
        "\n",
        "fig, ax = plt.subplots(1, 2, figsize = (15, 3))\n",
        "ax[0].hist(muestra_lognormal, bins = 20, density = True, rwidth = 0.80)\n",
        "ax[0].set_xlabel('x')\n",
        "ax[0].set_title('Log-normal')\n",
        "ax[1].hist(muestra_powerlaw, bins = 20, density = True, rwidth = 0.80)\n",
        "ax[1].set_xlabel('x')\n",
        "ax[1].set_title('Power-law')\n",
        "plt.show()"
      ],
      "execution_count": null,
      "outputs": [
        {
          "output_type": "display_data",
          "data": {
            "image/png": "[encoded data removed]",
            "text/plain": [
              "<Figure size 1080x216 with 2 Axes>"
            ]
          },
          "metadata": {
            "tags": [],
            "needs_background": "light"
          }
        }
      ]
    },
    {
      "cell_type": "markdown",
      "metadata": {
        "id": "BwmaWRWi5hrB"
      },
      "source": [
        "Sin embargo son dos distribuciones muy distintas: mientras la log-normal tiene una escala bien definida (es decir, sabemos a partir de qué valor las probabilidades de que ocurran valores mayores o menores son prácticamente nulas), una powerlaw puede presentar eventos extremos con una probabilidad no despreciable.\n",
        "\n",
        "Una solución para ver sus particularidades es realizar los histogramas en la escala log-log. Para simplicidad, lo que hacemos es hacer el histograma para el logaritmo de los datos y a su vez graficar el eje $y$ en escala logarítmica (otra solución creo más compleja es hacer un bineo logarítmico, bines más finos para valores bajos y bines más anchos para valores altos)."
      ]
    },
    {
      "cell_type": "code",
      "metadata": {
        "colab": {
          "base_uri": "https://localhost:8080/",
          "height": 241
        },
        "id": "cr3mpidIb3xn",
        "outputId": "d2e9a4e3-1cfa-46ea-fc69-15d3f9963390"
      },
      "source": [
        "# Histrogramas log-log\n",
        "\n",
        "fig, ax = plt.subplots(1, 2, figsize = (15, 3))\n",
        "ax[0].hist(np.log(muestra_lognormal), bins = 20, density = True, rwidth = 0.80, log = True)\n",
        "ax[0].set_xlabel('log(x)')\n",
        "ax[0].set_title('Log-normal')\n",
        "\n",
        "ax[1].hist(np.log(muestra_powerlaw), bins = 20, density = True, rwidth = 0.80, log = True)\n",
        "ax[1].set_xlabel('log(x)')\n",
        "ax[1].set_title('Power-law')\n",
        "\n",
        "plt.show()"
      ],
      "execution_count": null,
      "outputs": [
        {
          "output_type": "display_data",
          "data": {
            "image/png": "[encoded data removed]",
            "text/plain": [
              "<Figure size 1080x216 with 2 Axes>"
            ]
          },
          "metadata": {
            "tags": [],
            "needs_background": "light"
          }
        }
      ]
    },
    {
      "cell_type": "markdown",
      "metadata": {
        "id": "fgmJ4HWs6H3h"
      },
      "source": [
        "Esto nos muestra dos cosas:\n",
        "- La log-normal es prácticamente idéntica a una distribución normal viendo todo en escala logarítmica (en realidad, si $x$ es distribuído por una log-normal, entonces $log(x)$ está normalmente distribuído).\n",
        "- Por otro lado, un distintivo de las distribuciones power-law es que en escala log-log presentan una gráfico lineal (si $P(x) \\sim x^\\nu$ entonces $log(P(x)) \\sim \\nu log(x)$).\n",
        "\n",
        "La distinción es importante porque las power-law son conocidas también como leyes libre de escala. Teóricamente no tienen una dispersión bien definida (depende en realidad del exponente de la distribución) y por lo tanto carecen de una escala con la cual comparar la distancia al valor medio."
      ]
    },
    {
      "cell_type": "markdown",
      "metadata": {
        "id": "9j2lJ1vSRtEn"
      },
      "source": [
        "\n",
        "\n",
        "\n",
        "<p><a name=\"NorMul\"></a></p>\n",
        "\n",
        "## 1.13. Normal multivariada \n",
        "\n",
        "\n",
        "\n",
        "\n",
        " \n",
        "\n",
        "\n",
        "  \n",
        "\n",
        "\n"
      ]
    },
    {
      "cell_type": "markdown",
      "metadata": {
        "id": "KiRm55S6qYBK"
      },
      "source": [
        "\n",
        "\n",
        "Es importante mencionar que lamentablemente (o por suerte) no todo en la vida es unidimensional y por supuesto existen distribuciones de dos o más variables. Un ejemplo típico es una [normal multivariada](https://es.wikipedia.org/wiki/Distribuci%C3%B3n_normal_multivariada), que es la generalización de la distribución normal a varias dimensiones.\n",
        "\n",
        "Para el caso de dos variables estandarizadas, la función densidad es: $$f(x_1, x_2) = \\frac{1}{2\\pi |\\Sigma|^{1/2}} e^{-\\frac{1}{2} \\bar x^T \\Sigma^{-1} \\bar x}$$\n",
        "donde $\\bar x = (x_1, x_2)$ y $\\Sigma = \\Big(\\begin{matrix} 1 & \\rho\\\\\n",
        "\\rho & 1 \\end{matrix}\\Big)$. \n",
        "\n",
        "Lo interesante de esta distribución es que el coeficiente de correlación $\\rho$ aparece explícitamente es la función densidad, análogo a como aparecen los valores medios y desviaciones en la normal. Esta sería entonces una de las formas más sencillas de crear variables correlacionadas."
      ]
    },
    {
      "cell_type": "code",
      "metadata": {
        "colab": {
          "base_uri": "https://localhost:8080/",
          "height": 297
        },
        "id": "HO-Li3esfnKC",
        "outputId": "9b6c27cb-9815-4df1-f5e1-08ed6a4620ad"
      },
      "source": [
        "### Distribuciones multivariadas\n",
        "\n",
        "# Coeficiente de correlacion\n",
        "corr_x12 = 0.80\n",
        "\n",
        "distribucion = stats.multivariate_normal(mean = [0.00, 0.00], cov = np.array(([1.00, corr_x12], [corr_x12, 1.00])))\n",
        "muestra = distribucion.rvs(size = 1000) \n",
        "\n",
        "# Histograma 2D, notar que la muestra tiene dos columnas\n",
        "plt.hist2d(muestra[:,0], muestra[:,1], bins = 20)\n",
        "\n",
        "# Calculamos la correlacion de Pearson de los datos a modo de chequeo\n",
        "plt.title('Pearson r = {:.3f}'.format(stats.pearsonr(muestra[:,0], muestra[:,1])[0]))\n",
        "\n",
        "plt.xlabel('$x_1$')\n",
        "plt.ylabel('$x_2$')\n",
        "plt.colorbar(label = 'Frecuencia')\n",
        "plt.show()"
      ],
      "execution_count": null,
      "outputs": [
        {
          "output_type": "display_data",
          "data": {
            "image/png": "[encoded data removed]",
            "text/plain": [
              "<Figure size 432x288 with 2 Axes>"
            ]
          },
          "metadata": {
            "tags": [],
            "needs_background": "light"
          }
        }
      ]
    },
    {
      "cell_type": "markdown",
      "metadata": {
        "id": "kgYdwciXRu5s"
      },
      "source": [
        "\n",
        "\n",
        "\n",
        "\n",
        "<p><a name=\"ExpNum\"></a></p>\n",
        "\n",
        "## 2.1 Experimentos numéricos\n",
        "\n",
        "\n",
        "\n",
        " "
      ]
    },
    {
      "cell_type": "markdown",
      "metadata": {
        "id": "AoU1gDybKj3f"
      },
      "source": [
        "\n",
        "\n",
        "\n",
        "\n",
        "\n",
        "En esta sección vamos realizar algunos experimentos numéricos. De paso ponemos en práctica herramientas de visualización y análisis."
      ]
    },
    {
      "cell_type": "code",
      "metadata": {
        "id": "z1g7yFMdXQL8"
      },
      "source": [
        "import matplotlib.pyplot as plt\n",
        "from scipy import stats\n",
        "import numpy as np "
      ],
      "execution_count": 1,
      "outputs": []
    },
    {
      "cell_type": "markdown",
      "metadata": {
        "id": "VFRz2V9PRwzv"
      },
      "source": [
        "\n",
        "\n",
        "\n",
        "<p><a name=\"RobEst\"></a></p>\n",
        "\n",
        "## 2.1. Robustez de estadísticos\n",
        "\n",
        "\n",
        "\n",
        " \n"
      ]
    },
    {
      "cell_type": "markdown",
      "metadata": {
        "id": "42mTBFsTKvUV"
      },
      "source": [
        "\n",
        "\n",
        "En este primer experimento vemos el efecto que tiene sobre algunos observables la presencia de un outlier. Vamos a ver que mientras que la media se ve seriamente afectada, la mediana y los cuantiles son bastantes robustos."
      ]
    },
    {
      "cell_type": "code",
      "metadata": {
        "colab": {
          "base_uri": "https://localhost:8080/",
          "height": 281
        },
        "id": "bmGF4oqxKpH1",
        "outputId": "5bb09408-c9f8-439e-b291-c04256dcebe9"
      },
      "source": [
        "fig, ax = plt.subplots(1, 3, figsize = (18, 4))\n",
        "fig_index = 0\n",
        "\n",
        "for outlier in [0, 100, 1000]:\n",
        "\n",
        "  # Creamos una muestra con una distribución normal y agregamos un outlier en algún lado.\n",
        "  muestra = stats.norm.rvs(loc = 0.00, scale = 1.00, size = 99)\n",
        "  muestra = np.append(muestra, outlier)\n",
        "\n",
        "  # Histograma\n",
        "  ax[fig_index].hist(muestra, bins = np.arange(-4.25, 4.25, 0.50), rwidth = 0.80, color = 'b', alpha = 0.50)\n",
        "\n",
        "  # Grafico de la media, mediana y cuantile\n",
        "  ax[fig_index].vlines(x = np.mean(muestra), ymin = 0, ymax = 30, linewidth = 3, linestyle = '--', alpha = 0.65, color = 'g', label = 'Media')\n",
        "  ax[fig_index].vlines(x = np.median(muestra), ymin = 0, ymax = 30, linewidth = 3, linestyle = '--', alpha = 0.65, color = 'k', label = 'Mediana')\n",
        "  ax[fig_index].fill_between(x = np.quantile(muestra, [0.05, 0.95]), y1 = 30, color = 'r', alpha = 0.15, label = '90% central')\n",
        "  ax[fig_index].set_ylim([0, 30])\n",
        "  if fig_index == 2:\n",
        "    ax[fig_index].legend(loc = 'best')\n",
        "  ax[fig_index].set_title('Outlier en {}'.format(outlier))\n",
        "  \n",
        "  fig_index += 1\n",
        "\n",
        "plt.show()"
      ],
      "execution_count": 2,
      "outputs": [
        {
          "output_type": "display_data",
          "data": {
            "image/png": "[encoded data removed]",
            "text/plain": [
              "<Figure size 1296x288 with 3 Axes>"
            ]
          },
          "metadata": {
            "tags": [],
            "needs_background": "light"
          }
        }
      ]
    },
    {
      "cell_type": "markdown",
      "metadata": {
        "id": "5SRDqin1Ry_H"
      },
      "source": [
        "\n",
        "\n",
        "<p><a name=\"Corre\"></a></p>\n",
        "\n",
        "## 2.2. Correlación\n",
        "\n",
        "\n",
        "\n",
        " \n",
        " \n",
        "\n",
        "  "
      ]
    },
    {
      "cell_type": "markdown",
      "metadata": {
        "id": "VVqY9D52K4kd"
      },
      "source": [
        "\n",
        "Veamos un ejemplo sencillo donde comparamos los coeficientes de correlación de Pearson y Spearman. Recordemos que:\n",
        "- **Pearson** mide la **relación lineal** entre dos variables, por lo tanto cuando la relación es no lineal puede subestimar la vinculación entre dichas variables.\n",
        "- Por otro lado, **Spearman** detecta **relaciones monótonas** entre las variables. Es decir, detecta si cuando una de las variables aumenta (o disminuye) la otra también lo hace, independientemente de cómo sea esa relación (lineal o no lineal).\n",
        "\n",
        "En el siguiente experimento numérico vemos cuánto dan los coeficientes para dos variables $x$ e $y$, donde $y$ esta descorrelacionada de $x$ ($y \\sim x^0$), linealmente relacionada ($y \\sim x$) y monotonámente ligada a $x$ ($y \\sim x^7$, por ejemplo). A la variable $y$ le agregamos un ruido gaussiano para simular una medición real.\n",
        "\n",
        "Los coeficientes los calculamos con:\n",
        "~~~\n",
        "from scipy.stats import pearsonr, spearmanr\n",
        "\n",
        "coeff_p = pearsonr(x,y)[0]\n",
        "coeff_s = spearmanr(x,y)[0]\n",
        "~~~\n",
        "El índice 0 es para tomar efectivamente el valor del coeficiente, dado que estas funciones devuelven además un p-valor correspondiente a un test de hipótesis realizado, que dicen si estas correlaciones son estadísticamente significativas o no (cuidado con esto! hay que chequear siempre las hipótesis detrás). En todo caso, consultar la documentación de [scipy.stats](https://docs.scipy.org/doc/scipy/reference/stats.html), donde indica qué asume al momento de realizar el test."
      ]
    },
    {
      "cell_type": "code",
      "metadata": {
        "colab": {
          "base_uri": "https://localhost:8080/",
          "height": 244
        },
        "id": "FcAl_ilfKyLj",
        "outputId": "c23f6e1e-3420-484a-d1d7-13ae0e203803"
      },
      "source": [
        "# Medidas de correlación pearson y spearman\n",
        "from scipy.stats import pearsonr, spearmanr\n",
        "\n",
        "# Rango de x \n",
        "x = np.arange(-2.00, 2.00, 0.10)\n",
        "\n",
        "# Relación de y con x: y ~ x^exponente\n",
        "exponents = [0, 1, 7]\n",
        "\n",
        "fig, ax = plt.subplots(1, 3, figsize = (16,3))\n",
        "for i in range(3):\n",
        "\n",
        "  # Calculamos \"y\" agregandole un poco de ruido \n",
        "  # (Esto es una lista por compresión, que permite crear listas rápidamente)\n",
        "  y = [np.random.normal(loc = mu**exponents[i], scale = 0.50) for mu in x]\n",
        "\n",
        "  # Gráficos\n",
        "  ax[i].scatter(x, y)\n",
        "  ax[i].set_title('Pearson = {:.3f} - Spearman = {:.3f}'.format(pearsonr(x, y)[0], spearmanr(x, y)[0]))\n",
        "  ax[i].set_xlabel('x', size = 12)\n",
        "  ax[i].set_ylabel('y', rotation = 0, size = 12)\n",
        "\n",
        "plt.show()"
      ],
      "execution_count": 3,
      "outputs": [
        {
          "output_type": "display_data",
          "data": {
            "image/png": "[encoded data removed]",
            "text/plain": [
              "<Figure size 1152x216 with 3 Axes>"
            ]
          },
          "metadata": {
            "tags": [],
            "needs_background": "light"
          }
        }
      ]
    },
    {
      "cell_type": "markdown",
      "metadata": {
        "id": "ZqLIXKK4LCxl"
      },
      "source": [
        "Tener siempre presente que si las variables están relacionadas no monótonamente (ej, $y \\sim x^2$), ninguno de los coeficientes va a ser capaz de captar dicha relación. Dicho de otro modo, un coeficiente de correlación bajo no necesariamente implica que las variables sean independendientes."
      ]
    },
    {
      "cell_type": "code",
      "metadata": {
        "colab": {
          "base_uri": "https://localhost:8080/",
          "height": 244
        },
        "id": "t5_np38oK_gz",
        "outputId": "080c63ad-3740-45d6-c8fe-129bab4e5185"
      },
      "source": [
        "# Mismo código de arriba, pero ahora y ~ x^2 o y ~ x^4\n",
        "exponents = [2, 4]\n",
        "\n",
        "fig, ax = plt.subplots(1, 2, figsize = (10,3))\n",
        "for i in range(2):\n",
        "\n",
        "  y = [np.random.normal(loc = mu**exponents[i], scale = 1.00) for mu in x]\n",
        "\n",
        "  ax[i].scatter(x, y)\n",
        "  ax[i].set_title('Pearson = {:.3f} - Spearman = {:.3f}'.format(pearsonr(x, y)[0], spearmanr(x, y)[0]))\n",
        "  ax[i].set_xlabel('x', size = 12)\n",
        "  ax[i].set_ylabel('y', rotation = 0, size = 12)\n",
        "\n",
        "plt.show()"
      ],
      "execution_count": 4,
      "outputs": [
        {
          "output_type": "display_data",
          "data": {
            "image/png": "[encoded data removed]",
            "text/plain": [
              "<Figure size 720x216 with 2 Axes>"
            ]
          },
          "metadata": {
            "tags": [],
            "needs_background": "light"
          }
        }
      ]
    },
    {
      "cell_type": "markdown",
      "metadata": {
        "id": "_NwWqb1cR59v"
      },
      "source": [
        "\n",
        "\n",
        "\n",
        "<p><a name=\"TeoCenLim\"></a></p>\n",
        "\n",
        "## 2.3. Teorema central del límite \n",
        "\n",
        "\n",
        "\n",
        " \n",
        " \n"
      ]
    },
    {
      "cell_type": "markdown",
      "metadata": {
        "id": "5W6k8ratLIO8"
      },
      "source": [
        "\n",
        "\n",
        "El teorema central del límite nos dice que el promedio $\\bar X$ de $n$ variables aleatorias con media $\\mu$ y desviación $\\sigma$ es a su vez una variable aleatoria que se distribuye normalmente con media $\\mu$ y desviación $\\frac{\\sigma}{\\sqrt{n}}$. \n",
        "Esto significa que cuando calculamos el promedio de un conjunto de datos estamos estimando el valor medio de la población y por el otro lado podemos determinar un rango de error de nuestra estimación, que se hace más chico a medida que promediemos más datos.\n",
        "\n",
        "Lo fuerte de este teorema es que no importa qué distribución tienen los datos, solo hace falta que tengan valor medio y desviación bien definidos.\n",
        "\n",
        "Probamos primero con variables normalmente distribuidas y luego cambiamos de distribución."
      ]
    },
    {
      "cell_type": "code",
      "metadata": {
        "colab": {
          "base_uri": "https://localhost:8080/",
          "height": 227
        },
        "id": "qOErQstbLFai",
        "outputId": "f437c9c5-7092-44d9-8bc7-9d86ab8df545"
      },
      "source": [
        "# Variables normalmente distribuidas\n",
        "\n",
        "fig, ax = plt.subplots(1, 3, figsize = (16, 3))\n",
        "fig_index = 0\n",
        "\n",
        "# Barremos en el tamaño de la muestra\n",
        "for N in [10, 100, 1000]:\n",
        "\n",
        "  sample_means = []\n",
        "\n",
        "  # Simulamos 2500 veces en la que calculamos el promedio de n variables aleatorias\n",
        "  for iteration in range(2500):\n",
        "\n",
        "    sample = np.random.normal(loc = 0.00, scale = 1.00, size = N)\n",
        "    sample_means.append(np.mean(sample))\n",
        "\n",
        "  ax[fig_index].hist(sample_means, bins = 10, rwidth = 0.8, density = True, color = 'b', alpha = 0.50)\n",
        "\n",
        "  x = np.arange(np.min(sample_means), np.max(sample_means), 0.001)\n",
        "  \n",
        "  # Distribución teórica según teorema central del límite\n",
        "  ax[fig_index].plot(x, stats.norm.pdf(x, loc = np.mean(sample_means), scale = np.std(sample_means)), color = 'r', linewidth = 2, alpha = 0.65)\n",
        "  \n",
        "  ax[fig_index].set_xlim([-2, 2])\n",
        "  ax[fig_index].set_title('N = {}'.format(N))\n",
        "  ax[fig_index].legend(['Teórica', 'Simulación',])\n",
        "\n",
        "  fig_index += 1\n",
        "\n",
        "plt.show()"
      ],
      "execution_count": 5,
      "outputs": [
        {
          "output_type": "display_data",
          "data": {
            "image/png": "[encoded data removed]",
            "text/plain": [
              "<Figure size 1152x216 with 3 Axes>"
            ]
          },
          "metadata": {
            "tags": [],
            "needs_background": "light"
          }
        }
      ]
    },
    {
      "cell_type": "code",
      "metadata": {
        "colab": {
          "base_uri": "https://localhost:8080/",
          "height": 227
        },
        "id": "4HsmQJRxLLfS",
        "outputId": "5cb7c630-a9d5-44c1-ad22-abf696b09d73"
      },
      "source": [
        "# Otra distribución con media y desviación bien definida\n",
        "# Ejemplo, distribucion exponencial\n",
        "distribution = stats.expon()\n",
        "\n",
        "fig, ax = plt.subplots(1, 3, figsize = (16, 3))\n",
        "fig_index = 0\n",
        "\n",
        "# Barremos en el tamaño de la muestra\n",
        "for N in [10, 100, 1000]:\n",
        "\n",
        "  sample_means = []\n",
        "\n",
        "  # Simulamos 2500 veces en la que calculamos el promedio de n variables aleatorias\n",
        "  for iteration in range(2500):\n",
        "\n",
        "    sample = distribution.rvs(size = N)\n",
        "    sample_means.append(np.mean(sample))\n",
        "\n",
        "  ax[fig_index].hist(sample_means, bins = 10, rwidth = 0.8, density = True, color = 'b', alpha = 0.50)\n",
        "\n",
        "  x = np.arange(np.min(sample_means), np.max(sample_means), 0.001)\n",
        "\n",
        "  # Distribución teórica según teorema central del límite\n",
        "  ax[fig_index].plot(x, stats.norm.pdf(x, loc = np.mean(sample_means), scale = np.std(sample_means)), color = 'r', linewidth = 2, alpha = 0.65)\n",
        "  \n",
        "  ax[fig_index].set_xlim([0.0, 2.00])\n",
        "  ax[fig_index].set_title('N = {}'.format(N))\n",
        "  ax[fig_index].legend(['Teórica', 'Simulación',])\n",
        "\n",
        "  fig_index += 1\n",
        "\n",
        "plt.show()"
      ],
      "execution_count": 6,
      "outputs": [
        {
          "output_type": "display_data",
          "data": {
            "image/png": "[encoded data removed]",
            "text/plain": [
              "<Figure size 1152x216 with 3 Axes>"
            ]
          },
          "metadata": {
            "tags": [],
            "needs_background": "light"
          }
        }
      ]
    },
    {
      "cell_type": "markdown",
      "metadata": {
        "id": "kXKo2TtSR8SI"
      },
      "source": [
        "\n",
        "\n",
        "\n",
        "<p><a name=\"LeyGraNum\"></a></p>\n",
        "\n",
        "## 2.4. Ley de grandes números  \n",
        "\n",
        "\n",
        "\n",
        " \n",
        " \n",
        "\n"
      ]
    },
    {
      "cell_type": "markdown",
      "metadata": {
        "id": "6tNnfBRILRw7"
      },
      "source": [
        "\n",
        "\n",
        "Si tenemos un conjunto de $N$ variables aleatorias independientes con valor medio $\\mu$ y desviación $\\sigma$, a medida que el tamaño de la muestra crece, el promedio $\\bar X  = \\frac{1}{N} \\sum_i^N X_i$ tiende a $\\mu$, es decir $\\hat X \\to \\mu$ cuando $N \\to \\infty$.\n",
        "\n",
        "Por el teorema central del límite, podemos a su vez asociar una barra de error al promedio dada por $\\sqrt{\\frac{S^2}{N}}$, donde $S^2 = \\frac{1}{N-1} \\sum_i (X_i - \\bar X)^2$.\n",
        "\n",
        "**Observación:** formalmente se dice que $\\bar X $ converge en probabilidad a $\\mu$,  es decir la probabilidad de $\\bar X $ esté lejos de $\\mu$ se va a cero a medida que aumenta la muestra.\n",
        "\n",
        "La ley de los grandes números nos dice algo que intuímos: más datos es mejor, siempre y cuando estos sean independientes y vengan de una buena distribución...cosa que no siempre sucede."
      ]
    },
    {
      "cell_type": "code",
      "metadata": {
        "colab": {
          "base_uri": "https://localhost:8080/",
          "height": 285
        },
        "id": "pTt6Lvz8LOrB",
        "outputId": "2291fe21-d2e8-44f9-c272-8eca77d6fc70"
      },
      "source": [
        "sample_means = []\n",
        "sample_errors = []\n",
        "\n",
        "# Barremos en distintos valores de N \n",
        "N_range = [int(n) for n in np.logspace(0, 5, 21)]\n",
        "for N in N_range:\n",
        "\n",
        "  # Tomamos numeros aleatorios normalmente distribuidos y calculamos el promedio y el error\n",
        "  sample = np.random.normal(loc = 0.00, scale = 1.00, size = N)\n",
        "  sample_means.append(np.mean(sample))\n",
        "\n",
        "  error = np.std(sample)/np.sqrt(N)\n",
        "  sample_errors.append(error)\n",
        "\n",
        "# Grafico con barras de error\n",
        "plt.errorbar(x = N_range, y = sample_means, yerr = sample_errors, fmt ='b.-', linewidth = 2, markersize = 10, alpha = 0.65, label = 'Media de la muestra')\n",
        "plt.hlines(y = 0.00, xmin = 0, xmax = np.max(N_range), linestyles='--', label = 'Valor medio de la población')\n",
        "plt.xscale('log')\n",
        "plt.xlabel('Tamaño de la muestra')\n",
        "plt.legend(loc = 'best')\n",
        "plt.show()"
      ],
      "execution_count": 7,
      "outputs": [
        {
          "output_type": "display_data",
          "data": {
            "image/png": "[encoded data removed]",
            "text/plain": [
              "<Figure size 432x288 with 1 Axes>"
            ]
          },
          "metadata": {
            "tags": [],
            "needs_background": "light"
          }
        }
      ]
    },
    {
      "cell_type": "markdown",
      "metadata": {
        "id": "1CxP_XwKLXRb"
      },
      "source": [
        "Y esta es la cosa que no siempre sucede: un requisito fundamental para que el promedio converja a la media es que los datos sigan una distribución con media y desviación bien definida. La distribución de Cauchy, por ejemplo, no cumple esto. Notar que este caso tomar más datos no es mejor."
      ]
    },
    {
      "cell_type": "code",
      "metadata": {
        "colab": {
          "base_uri": "https://localhost:8080/",
          "height": 283
        },
        "id": "-AjxWcxtLUVS",
        "outputId": "238b55d7-26a9-4f28-9c06-00487e595443"
      },
      "source": [
        "sample_means = []\n",
        "sample_errors = []\n",
        "\n",
        "# Barremos en distintos valores de N \n",
        "N_range = [int(n) for n in np.logspace(0, 5, 21)]\n",
        "for N in N_range:\n",
        "\n",
        "  # Tomamos numeros aleatorios distribuidos por Cauchy y calculamos el promedio y el error\n",
        "  sample = stats.cauchy.rvs(size = N)\n",
        "  sample_means.append(np.mean(sample))\n",
        "\n",
        "  error = np.std(sample)/np.sqrt(N)\n",
        "  sample_errors.append(error)\n",
        "\n",
        "# Grafico con barras de error\n",
        "plt.errorbar(x = N_range, y = sample_means, yerr = sample_errors, fmt ='b.-', linewidth = 2, markersize = 10, alpha = 0.65, label = 'Media de la muestra')\n",
        "plt.xscale('log')\n",
        "plt.xlabel('Tamaño de la muestra')\n",
        "plt.legend(loc = 'best')\n",
        "plt.show()"
      ],
      "execution_count": 8,
      "outputs": [
        {
          "output_type": "display_data",
          "data": {
            "image/png": "[encoded data removed]",
            "text/plain": [
              "<Figure size 432x288 with 1 Axes>"
            ]
          },
          "metadata": {
            "tags": [],
            "needs_background": "light"
          }
        }
      ]
    },
    {
      "cell_type": "code",
      "metadata": {
        "id": "BPLBhIfRLZ_y"
      },
      "source": [
        ""
      ],
      "execution_count": null,
      "outputs": []
    }
  ]
}